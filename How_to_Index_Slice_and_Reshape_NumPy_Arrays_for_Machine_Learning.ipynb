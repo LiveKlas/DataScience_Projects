{
  "nbformat": 4,
  "nbformat_minor": 0,
  "metadata": {
    "colab": {
      "provenance": [],
      "authorship_tag": "ABX9TyN5CxdzqaXUqA14bTMn0+a9",
      "include_colab_link": true
    },
    "kernelspec": {
      "name": "python3",
      "display_name": "Python 3"
    },
    "language_info": {
      "name": "python"
    }
  },
  "cells": [
    {
      "cell_type": "markdown",
      "metadata": {
        "id": "view-in-github",
        "colab_type": "text"
      },
      "source": [
        "<a href=\"https://colab.research.google.com/github/LiveKlas/DataScience_Projects/blob/main/How_to_Index_Slice_and_Reshape_NumPy_Arrays_for_Machine_Learning.ipynb\" target=\"_parent\"><img src=\"https://colab.research.google.com/assets/colab-badge.svg\" alt=\"Open In Colab\"/></a>"
      ]
    },
    {
      "cell_type": "markdown",
      "source": [
        "# **How to Index, Slice and Reshape NumPy Arrays for Machine Learning**"
      ],
      "metadata": {
        "id": "2DTI1dNaaIWB"
      }
    },
    {
      "cell_type": "markdown",
      "source": [
        "Machine learning data is represented as arrays.\n",
        "\n",
        "In Python, data is almost universally represented as NumPy arrays.\n",
        "\n",
        "If you are new to Python, you may be confused by some of the pythonic ways of accessing data, such as negative indexing and array slicing.\n",
        "\n",
        "In this tutorial, you will discover how to manipulate and access your data correctly in NumPy arrays.\n",
        "\n",
        "After completing this tutorial, you will know:\n",
        "\n",
        "How to convert your list data to NumPy arrays.\n",
        "How to access data using Pythonic indexing and slicing.\n",
        "How to resize your data to meet the expectations of some machine learning APIs."
      ],
      "metadata": {
        "id": "7D2jVbH0abzk"
      }
    },
    {
      "cell_type": "markdown",
      "source": [
        "## **Tutorial Overview**\n",
        "\n",
        "This tutorial is divided into 4 parts; they are:\n",
        "\n",
        "1. From List to Arrays\n",
        "2. Array Indexing\n",
        "3. Array Slicing\n",
        "4. Array Reshaping"
      ],
      "metadata": {
        "id": "8gim2vwpafyC"
      }
    },
    {
      "cell_type": "markdown",
      "source": [
        "### **1. From List to Arrays**"
      ],
      "metadata": {
        "id": "dD-_HvsSaxuw"
      }
    },
    {
      "cell_type": "markdown",
      "source": [
        "In general, recommend loading your data from file using Pandas or even NumPy functions.\n",
        "\n",
        "***How To Load Machine Learning Data in Python***\n",
        "\n",
        "This section assumes you have loaded or generated your data by other means and it is now represented using Python lists.\n",
        "\n",
        "\n",
        "Let's look at converting your data in lists to NumPy arrays."
      ],
      "metadata": {
        "id": "ugvA_KsFa0Eo"
      }
    },
    {
      "cell_type": "markdown",
      "source": [
        "#### **One-Dimensional List to Array**"
      ],
      "metadata": {
        "id": "gT9FNF8UcY1o"
      }
    },
    {
      "cell_type": "markdown",
      "source": [
        "You may load your data or generate your data and have access to it as a list.\n",
        "\n",
        "You can convert a one-dimensional list of data to an array by calling the array() NumPy function."
      ],
      "metadata": {
        "id": "K9wdW5cWocHu"
      }
    },
    {
      "cell_type": "markdown",
      "source": [
        "```\n",
        "# one dimensional example\n",
        "from numpy import array\n",
        "# list of data\n",
        "data = [11, 22, 33, 44, 55]\n",
        "# array of data\n",
        "data = array(data)\n",
        "print(data)\n",
        "print(type(data))\n",
        "```"
      ],
      "metadata": {
        "id": "GdlBJiPWolfx"
      }
    },
    {
      "cell_type": "code",
      "source": [
        "# one dimensional example\n",
        "from numpy import array\n",
        "# list of data\n",
        "data = [11, 22, 33, 44, 55]\n",
        "# array of data\n",
        "data = array(data)\n",
        "print(data)\n",
        "print(type(data))"
      ],
      "metadata": {
        "colab": {
          "base_uri": "https://localhost:8080/"
        },
        "id": "UI7MYqcCoftJ",
        "outputId": "b0a06cde-42c9-4dfe-c3de-7bf5025d28b5"
      },
      "execution_count": 1,
      "outputs": [
        {
          "output_type": "stream",
          "name": "stdout",
          "text": [
            "[11 22 33 44 55]\n",
            "<class 'numpy.ndarray'>\n"
          ]
        }
      ]
    },
    {
      "cell_type": "markdown",
      "source": [
        "Running the example converts the one-dimensional list to a NumPy array."
      ],
      "metadata": {
        "id": "CIIQpixDouqR"
      }
    },
    {
      "cell_type": "markdown",
      "source": [
        "```\n",
        "[11 22 33 44 55]\n",
        "<class 'numpy.ndarray'>\n",
        "```"
      ],
      "metadata": {
        "id": "NWfA2aMYoyQp"
      }
    },
    {
      "cell_type": "markdown",
      "source": [
        "#### **Two-Dimensional List of Lists to Array**"
      ],
      "metadata": {
        "id": "E5pUwcWlo20X"
      }
    },
    {
      "cell_type": "markdown",
      "source": [
        "It is more likely in machine learning that you will have two-dimensional data.\n",
        "\n",
        "That is a table of data where each row represents a new observation and each column a new feature.\n",
        "\n",
        "Perhaps you generated the data or loaded it using custom code and now you have a list of lists. Each list represents a new observation.\n",
        "\n",
        "You can convert your list of lists to a NumPy array the same way as above, by calling the array() function."
      ],
      "metadata": {
        "id": "CumSsaIEo8WR"
      }
    },
    {
      "cell_type": "markdown",
      "source": [
        "```\n",
        "# two dimensional example\n",
        "from numpy import array\n",
        "# list of data\n",
        "data = [[11, 22],\n",
        " [33, 44],\n",
        " [55, 66]]\n",
        "# array of data\n",
        "data = array(data)\n",
        "print(data)\n",
        "print(type(data))\n",
        "```"
      ],
      "metadata": {
        "id": "3Lq_XtCapAEp"
      }
    },
    {
      "cell_type": "code",
      "source": [
        "# two dimensional example\n",
        "from numpy import array\n",
        "# list of data\n",
        "data = [[11, 22],\n",
        " [33, 44],\n",
        " [55, 66]]\n",
        "# array of data\n",
        "data = array(data)\n",
        "print(data)\n",
        "print(type(data))"
      ],
      "metadata": {
        "colab": {
          "base_uri": "https://localhost:8080/"
        },
        "id": "oVHZoyZ9pAgX",
        "outputId": "87881e0c-c7c1-40f8-80fd-8038aadb6302"
      },
      "execution_count": 2,
      "outputs": [
        {
          "output_type": "stream",
          "name": "stdout",
          "text": [
            "[[11 22]\n",
            " [33 44]\n",
            " [55 66]]\n",
            "<class 'numpy.ndarray'>\n"
          ]
        }
      ]
    },
    {
      "cell_type": "markdown",
      "source": [
        "Running the example shows the data successfully converted."
      ],
      "metadata": {
        "id": "U29WC-adpHBn"
      }
    },
    {
      "cell_type": "markdown",
      "source": [
        "```\n",
        "[[11 22]\n",
        " [33 44]\n",
        " [55 66]]\n",
        "<class 'numpy.ndarray'>\n",
        "```"
      ],
      "metadata": {
        "id": "5aQmtFOwpIUu"
      }
    },
    {
      "cell_type": "markdown",
      "source": [
        "### **2. Array Indexing**"
      ],
      "metadata": {
        "id": "tG5XNcgSpUaJ"
      }
    },
    {
      "cell_type": "markdown",
      "source": [
        "Once your data is represented using a NumPy array, you can access it using indexing.\n",
        "\n",
        "Let's look at some examples of accessing data via indexing."
      ],
      "metadata": {
        "id": "57btwhbupal6"
      }
    },
    {
      "cell_type": "markdown",
      "source": [
        "#### **One-Dimensional Indexing**"
      ],
      "metadata": {
        "id": "nxSMrC4FrKm7"
      }
    },
    {
      "cell_type": "markdown",
      "source": [
        "\n",
        "\n",
        "\n",
        "Generally, indexing works just like you would expect from your experience with other programming languages, like Java, C#, and C++.\n",
        "\n",
        "For example, you can access elements using the bracket operator [] specifying the zero-offset index for the value to retrieve."
      ],
      "metadata": {
        "id": "tHRCPn5CpfAR"
      }
    },
    {
      "cell_type": "markdown",
      "source": [
        "```\n",
        "# simple indexing\n",
        "from numpy import array\n",
        "# define array\n",
        "data = array([11, 22, 33, 44, 55])\n",
        "# index data\n",
        "print(data[0])\n",
        "print(data[4])\n",
        "```"
      ],
      "metadata": {
        "id": "eyyzhQekpqjF"
      }
    },
    {
      "cell_type": "code",
      "source": [
        "# simple indexing\n",
        "from numpy import array\n",
        "# define array\n",
        "data = array([11, 22, 33, 44, 55])\n",
        "# index data\n",
        "print(data[0])\n",
        "print(data[4])"
      ],
      "metadata": {
        "colab": {
          "base_uri": "https://localhost:8080/"
        },
        "id": "qK2xUIrzpH4T",
        "outputId": "ae8a0867-962a-4ed6-b0a9-fa74e97851fe"
      },
      "execution_count": 3,
      "outputs": [
        {
          "output_type": "stream",
          "name": "stdout",
          "text": [
            "11\n",
            "55\n"
          ]
        }
      ]
    },
    {
      "cell_type": "markdown",
      "source": [
        "Running the example prints the first and last values in the array."
      ],
      "metadata": {
        "id": "ZWuzHUNRpz7D"
      }
    },
    {
      "cell_type": "markdown",
      "source": [
        "```\n",
        "11\n",
        "55\n",
        "```"
      ],
      "metadata": {
        "id": "ts2XFNj0p6VR"
      }
    },
    {
      "cell_type": "markdown",
      "source": [
        "Specifying integers too large for the bound of the array will cause an error."
      ],
      "metadata": {
        "id": "lri7PUUep2iW"
      }
    },
    {
      "cell_type": "markdown",
      "source": [
        "```\n",
        "# simple indexing\n",
        "from numpy import array\n",
        "# define array\n",
        "data = array([11, 22, 33, 44, 55])\n",
        "# index data\n",
        "print(data[5])\n",
        "```"
      ],
      "metadata": {
        "id": "uM-gzDDHqAU7"
      }
    },
    {
      "cell_type": "code",
      "source": [
        "# simple indexing\n",
        "from numpy import array\n",
        "# define array\n",
        "data = array([11, 22, 33, 44, 55])\n",
        "# index data\n",
        "print(data[5])"
      ],
      "metadata": {
        "colab": {
          "base_uri": "https://localhost:8080/",
          "height": 180
        },
        "id": "B_9jEvWVqDZO",
        "outputId": "9194f9a1-f201-4502-c698-3fa2e19f192d"
      },
      "execution_count": 4,
      "outputs": [
        {
          "output_type": "error",
          "ename": "IndexError",
          "evalue": "index 5 is out of bounds for axis 0 with size 5",
          "traceback": [
            "\u001b[0;31m---------------------------------------------------------------------------\u001b[0m",
            "\u001b[0;31mIndexError\u001b[0m                                Traceback (most recent call last)",
            "\u001b[0;32m<ipython-input-4-b850ae9637b0>\u001b[0m in \u001b[0;36m<cell line: 6>\u001b[0;34m()\u001b[0m\n\u001b[1;32m      4\u001b[0m \u001b[0mdata\u001b[0m \u001b[0;34m=\u001b[0m \u001b[0marray\u001b[0m\u001b[0;34m(\u001b[0m\u001b[0;34m[\u001b[0m\u001b[0;36m11\u001b[0m\u001b[0;34m,\u001b[0m \u001b[0;36m22\u001b[0m\u001b[0;34m,\u001b[0m \u001b[0;36m33\u001b[0m\u001b[0;34m,\u001b[0m \u001b[0;36m44\u001b[0m\u001b[0;34m,\u001b[0m \u001b[0;36m55\u001b[0m\u001b[0;34m]\u001b[0m\u001b[0;34m)\u001b[0m\u001b[0;34m\u001b[0m\u001b[0;34m\u001b[0m\u001b[0m\n\u001b[1;32m      5\u001b[0m \u001b[0;31m# index data\u001b[0m\u001b[0;34m\u001b[0m\u001b[0;34m\u001b[0m\u001b[0m\n\u001b[0;32m----> 6\u001b[0;31m \u001b[0mprint\u001b[0m\u001b[0;34m(\u001b[0m\u001b[0mdata\u001b[0m\u001b[0;34m[\u001b[0m\u001b[0;36m5\u001b[0m\u001b[0;34m]\u001b[0m\u001b[0;34m)\u001b[0m\u001b[0;34m\u001b[0m\u001b[0;34m\u001b[0m\u001b[0m\n\u001b[0m",
            "\u001b[0;31mIndexError\u001b[0m: index 5 is out of bounds for axis 0 with size 5"
          ]
        }
      ]
    },
    {
      "cell_type": "markdown",
      "source": [
        "Running the example prints the following error:"
      ],
      "metadata": {
        "id": "xet8d0B4qI5l"
      }
    },
    {
      "cell_type": "markdown",
      "source": [
        "```\n",
        "IndexError                                Traceback (most recent call last)\n",
        "<ipython-input-4-b850ae9637b0> in <cell line: 6>()\n",
        "      4 data = array([11, 22, 33, 44, 55])\n",
        "      5 # index data\n",
        "----> 6 print(data[5])\n",
        "\n",
        "IndexError: index 5 is out of bounds for axis 0 with size 5\n",
        "```"
      ],
      "metadata": {
        "id": "wMtIkoQsqJ7I"
      }
    },
    {
      "cell_type": "markdown",
      "source": [
        "One key difference is that you can use negative indexes to retrieve values offset from the end of the array.\n",
        "\n",
        "For example, the index -1 refers to the last item in the array. The index -2 returns the second last item all the way back to -5 for the first item in the current example."
      ],
      "metadata": {
        "id": "IyqJbpjqqlDS"
      }
    },
    {
      "cell_type": "markdown",
      "source": [
        "```\n",
        "# simple indexing\n",
        "from numpy import array\n",
        "# define array\n",
        "data = array([11, 22, 33, 44, 55])\n",
        "# index data\n",
        "print(data[-1])\n",
        "print(data[-5])\n",
        "```"
      ],
      "metadata": {
        "id": "V_dLPtIOqp5K"
      }
    },
    {
      "cell_type": "code",
      "source": [
        "# simple indexing\n",
        "from numpy import array\n",
        "# define array\n",
        "data = array([11, 22, 33, 44, 55])\n",
        "# index data\n",
        "print(data[-1])\n",
        "print(data[-5])"
      ],
      "metadata": {
        "colab": {
          "base_uri": "https://localhost:8080/"
        },
        "id": "CAAayXtvqtAt",
        "outputId": "a71c69f1-2a07-4cd7-8858-7526310f28f4"
      },
      "execution_count": 5,
      "outputs": [
        {
          "output_type": "stream",
          "name": "stdout",
          "text": [
            "55\n",
            "11\n"
          ]
        }
      ]
    },
    {
      "cell_type": "markdown",
      "source": [
        "Running the example prints the last and first items in the array."
      ],
      "metadata": {
        "id": "UwrbAfmPqx2R"
      }
    },
    {
      "cell_type": "markdown",
      "source": [
        "```\n",
        "55\n",
        "11\n",
        "```"
      ],
      "metadata": {
        "id": "KtqIePsgq0HX"
      }
    },
    {
      "cell_type": "markdown",
      "source": [
        "#### **Two-Dimensional Indexing**"
      ],
      "metadata": {
        "id": "CMXB3kigq3ds"
      }
    },
    {
      "cell_type": "markdown",
      "source": [
        "Indexing two-dimensional data is similar to indexing one-dimensional data, except that a comma is used to separate the index for each dimension."
      ],
      "metadata": {
        "id": "nleKF1NdrFGt"
      }
    },
    {
      "cell_type": "markdown",
      "source": [
        "```\n",
        "data[0,0]\n",
        "```"
      ],
      "metadata": {
        "id": "xaMmCZDcrk5K"
      }
    },
    {
      "cell_type": "markdown",
      "source": [
        "This is different from C-based languages where a separate bracket operator is used for each dimension."
      ],
      "metadata": {
        "id": "7MnOHmIjr7mY"
      }
    },
    {
      "cell_type": "markdown",
      "source": [
        "```\n",
        "data[0][0]\n",
        "```"
      ],
      "metadata": {
        "id": "EIkGRtNFsM6b"
      }
    },
    {
      "cell_type": "markdown",
      "source": [
        "For example, we can access the first row and the first column as follows:"
      ],
      "metadata": {
        "id": "CSLMtf9bsSlJ"
      }
    },
    {
      "cell_type": "markdown",
      "source": [
        "```\n",
        "# 2d indexing\n",
        "from numpy import array\n",
        "# define array\n",
        "data = array([[11, 22], [33, 44], [55, 66]])\n",
        "# index data\n",
        "print(data[0,0])\n",
        "```"
      ],
      "metadata": {
        "id": "KSgfVizGsYSZ"
      }
    },
    {
      "cell_type": "code",
      "source": [
        "# 2d indexing\n",
        "from numpy import array\n",
        "# define array\n",
        "data = array([[11, 22], [33, 44], [55, 66]])\n",
        "# index data\n",
        "print(data[0,0])"
      ],
      "metadata": {
        "colab": {
          "base_uri": "https://localhost:8080/"
        },
        "id": "Z0GojmUUsPyq",
        "outputId": "7780730e-788f-4bff-8f7a-857e377bf7e1"
      },
      "execution_count": 8,
      "outputs": [
        {
          "output_type": "stream",
          "name": "stdout",
          "text": [
            "11\n"
          ]
        }
      ]
    },
    {
      "cell_type": "markdown",
      "source": [
        "Running the example prints the first item in the dataset."
      ],
      "metadata": {
        "id": "xxrLAhvUsjOU"
      }
    },
    {
      "cell_type": "markdown",
      "source": [
        "```\n",
        "11\n",
        "```"
      ],
      "metadata": {
        "id": "F3XAgdtesjwo"
      }
    },
    {
      "cell_type": "markdown",
      "source": [
        "If we are interested in all items in the first row, we could leave the second dimension index empty, for example:"
      ],
      "metadata": {
        "id": "LPOydLMosmqp"
      }
    },
    {
      "cell_type": "markdown",
      "source": [
        "```\n",
        "# 2d indexing\n",
        "from numpy import array\n",
        "# define array\n",
        "data = array([[11, 22], [33, 44], [55, 66]])\n",
        "# index data\n",
        "print(data[0,])\n",
        "```"
      ],
      "metadata": {
        "id": "_8TPFSmTspxX"
      }
    },
    {
      "cell_type": "code",
      "source": [
        "# 2d indexing\n",
        "from numpy import array\n",
        "# define array\n",
        "data = array([[11, 22], [33, 44], [55, 66]])\n",
        "# index data\n",
        "print(data[0,])"
      ],
      "metadata": {
        "colab": {
          "base_uri": "https://localhost:8080/"
        },
        "id": "sJASpZd7sudk",
        "outputId": "d4545e9e-21a8-4d51-ebcb-f536e8a36141"
      },
      "execution_count": 9,
      "outputs": [
        {
          "output_type": "stream",
          "name": "stdout",
          "text": [
            "[11 22]\n"
          ]
        }
      ]
    },
    {
      "cell_type": "markdown",
      "source": [
        "This prints the first row of data."
      ],
      "metadata": {
        "id": "1ax8kA6ms8eI"
      }
    },
    {
      "cell_type": "markdown",
      "source": [
        "```\n",
        "[11 22]\n",
        "```"
      ],
      "metadata": {
        "id": "GJNZvxQ9s-pE"
      }
    },
    {
      "cell_type": "markdown",
      "source": [
        "### **3. Array Slicing**"
      ],
      "metadata": {
        "id": "hU2Sw2XutGZ9"
      }
    },
    {
      "cell_type": "markdown",
      "source": [
        "So far, so good; creating and indexing arrays looks familiar.\n",
        "\n",
        "Now we come to array slicing, and this is one feature that causes problems for beginners to Python and NumPy arrays.\n",
        "\n",
        "Structures like lists and NumPy arrays can be sliced. This means that a subsequence of the structure can be indexed and retrieved.\n",
        "\n",
        "This is most useful in machine learning when specifying input variables and output variables, or splitting training rows from testing rows.\n",
        "\n",
        "Slicing is specified using the colon operator ':' with a 'from' and 'to' index before and after the column respectively. The slice extends from the 'from' index and ends one item before the 'to' index."
      ],
      "metadata": {
        "id": "lDLi2MMY2hjv"
      }
    },
    {
      "cell_type": "markdown",
      "source": [
        "```\n",
        "data[from:to]\n",
        "```"
      ],
      "metadata": {
        "id": "sA2Q58tG22BG"
      }
    },
    {
      "cell_type": "markdown",
      "source": [
        "Let's work through some examples."
      ],
      "metadata": {
        "id": "z2tg9cK_26E5"
      }
    },
    {
      "cell_type": "markdown",
      "source": [
        "#### **One-Dimensional Slicing**"
      ],
      "metadata": {
        "id": "qJd54OlQ2-B_"
      }
    },
    {
      "cell_type": "markdown",
      "source": [
        "You can access all data in an array dimension by specifying the slice ':' with no indexes."
      ],
      "metadata": {
        "id": "4NjZJF_23OVc"
      }
    },
    {
      "cell_type": "markdown",
      "source": [
        "```\n",
        "# simple slicing\n",
        "from numpy import array\n",
        "# define array\n",
        "data = array([11, 22, 33, 44, 55])\n",
        "print(data[:])\n",
        "```"
      ],
      "metadata": {
        "id": "RUsdNYuW3SBU"
      }
    },
    {
      "cell_type": "code",
      "source": [
        "# simple slicing\n",
        "from numpy import array\n",
        "# define array\n",
        "data = array([11, 22, 33, 44, 55])\n",
        "print(data[:])"
      ],
      "metadata": {
        "colab": {
          "base_uri": "https://localhost:8080/"
        },
        "id": "jlBpEwEJ3XDa",
        "outputId": "f1912049-098c-4e8b-d2d5-f5cfade87fde"
      },
      "execution_count": 1,
      "outputs": [
        {
          "output_type": "stream",
          "name": "stdout",
          "text": [
            "[11 22 33 44 55]\n"
          ]
        }
      ]
    },
    {
      "cell_type": "markdown",
      "source": [
        "Running the example prints all elements in the array."
      ],
      "metadata": {
        "id": "uxn8CRYi3beH"
      }
    },
    {
      "cell_type": "markdown",
      "source": [
        "```\n",
        "[11 22 33 44 55]\n",
        "```"
      ],
      "metadata": {
        "id": "NNbBLfkh3cT_"
      }
    },
    {
      "cell_type": "markdown",
      "source": [
        "The first item of the array can be sliced by specifying a slice that starts at index 0 and ends at index 1 (one item before the 'to' index).\n",
        "\n"
      ],
      "metadata": {
        "id": "PgR3M3uG3fD2"
      }
    },
    {
      "cell_type": "markdown",
      "source": [
        "```\n",
        "# simple slicing\n",
        "from numpy import array\n",
        "# define array\n",
        "data = array([11, 22, 33, 44, 55])\n",
        "print(data[0:1])\n",
        "```"
      ],
      "metadata": {
        "id": "IRMyWaGh3lt_"
      }
    },
    {
      "cell_type": "code",
      "source": [
        "# simple slicing\n",
        "from numpy import array\n",
        "# define array\n",
        "data = array([11, 22, 33, 44, 55])\n",
        "print(data[0:1])"
      ],
      "metadata": {
        "colab": {
          "base_uri": "https://localhost:8080/"
        },
        "id": "P9QfgqhX3qto",
        "outputId": "28e74bcf-cea7-4a1b-e8e9-2892fa309cce"
      },
      "execution_count": 2,
      "outputs": [
        {
          "output_type": "stream",
          "name": "stdout",
          "text": [
            "[11]\n"
          ]
        }
      ]
    },
    {
      "cell_type": "markdown",
      "source": [
        "Running the example returns a subarray with the first element."
      ],
      "metadata": {
        "id": "SemOdIHu3tQw"
      }
    },
    {
      "cell_type": "markdown",
      "source": [
        "```\n",
        "[11]\n",
        "```"
      ],
      "metadata": {
        "id": "kUgUVUch3t7g"
      }
    },
    {
      "cell_type": "markdown",
      "source": [
        "We can also use negative indexes in slices. For example, we can slice the last two items in the list by starting the slice at -2 (the second last item) and not specifying a ‘to’ index; that takes the slice to the end of the dimension."
      ],
      "metadata": {
        "id": "-J9iK6zl3xOH"
      }
    },
    {
      "cell_type": "markdown",
      "source": [
        "```\n",
        "# simple slicing\n",
        "from numpy import array\n",
        "# define array\n",
        "data = array([11, 22, 33, 44, 55])\n",
        "print(data[-2:])\n",
        "```"
      ],
      "metadata": {
        "id": "uE0WAdDf3zDp"
      }
    },
    {
      "cell_type": "code",
      "source": [
        "# simple slicing\n",
        "from numpy import array\n",
        "# define array\n",
        "data = array([11, 22, 33, 44, 55])\n",
        "print(data[-2:])"
      ],
      "metadata": {
        "colab": {
          "base_uri": "https://localhost:8080/"
        },
        "id": "n9eiCzLM33NZ",
        "outputId": "d0b04aef-39cd-4660-8aa6-5869f605d88f"
      },
      "execution_count": 3,
      "outputs": [
        {
          "output_type": "stream",
          "name": "stdout",
          "text": [
            "[44 55]\n"
          ]
        }
      ]
    },
    {
      "cell_type": "markdown",
      "source": [
        "Running the example returns a subarray with the last two items only."
      ],
      "metadata": {
        "id": "3FLJYWmi37Tr"
      }
    },
    {
      "cell_type": "markdown",
      "source": [
        "```\n",
        "[44 55]\n",
        "```"
      ],
      "metadata": {
        "id": "K6M6WSB_37_g"
      }
    },
    {
      "cell_type": "markdown",
      "source": [
        "#### **Two-Dimensional Slicing**"
      ],
      "metadata": {
        "id": "EYSCxU2R4FJj"
      }
    },
    {
      "cell_type": "markdown",
      "source": [
        "Let's look at the two examples of two-dimensional slicing you are most likely to use in machine learning."
      ],
      "metadata": {
        "id": "c6oeuqmI4J-y"
      }
    },
    {
      "cell_type": "markdown",
      "source": [
        "##### **Split Input and Output Features**"
      ],
      "metadata": {
        "id": "DJtm5rtQ4N3U"
      }
    },
    {
      "cell_type": "markdown",
      "source": [
        "It is common to split a loaded dataset into separate train and test sets.\n",
        "\n",
        "This is a splitting of rows where some portion will be used to train the model and the remaining portion will be used to estimate the skill of the trained model.\n",
        "\n",
        "This would involve slicing all columns by specifying ':' in the second dimension index. The training dataset would be all rows from the beginning to the split point."
      ],
      "metadata": {
        "id": "PhOrcYJt4TCt"
      }
    },
    {
      "cell_type": "markdown",
      "source": [
        "```\n",
        "dataset\n",
        "train = data[:split, :]\n",
        "```"
      ],
      "metadata": {
        "id": "OjXzEOzC4hRc"
      }
    },
    {
      "cell_type": "markdown",
      "source": [
        "The test dataset would be all rows starting from the split point to the end of the dimension."
      ],
      "metadata": {
        "id": "L9jlkGlL41TJ"
      }
    },
    {
      "cell_type": "markdown",
      "source": [
        "```\n",
        "test = data[split:, :]\n",
        "```"
      ],
      "metadata": {
        "id": "y2Uq-bFT49_A"
      }
    },
    {
      "cell_type": "markdown",
      "source": [
        "Putting all of this together, we can split the dataset at the contrived split point of 2."
      ],
      "metadata": {
        "id": "Dn-OttBw5B9_"
      }
    },
    {
      "cell_type": "markdown",
      "source": [
        "```\n",
        "# split train and test\n",
        "from numpy import array\n",
        "# define array\n",
        "data = array([[11, 22, 33],\n",
        " [44, 55, 66],\n",
        " [77, 88, 99]])\n",
        "# separate data\n",
        "split = 2\n",
        "train,test = data[:split,:],data[split:,:]\n",
        "print(train)\n",
        "print(test)\n",
        "```"
      ],
      "metadata": {
        "id": "6gaOGwB15RFS"
      }
    },
    {
      "cell_type": "code",
      "source": [
        "# split train and test\n",
        "from numpy import array\n",
        "# define array\n",
        "data = array([[11, 22, 33],\n",
        " [44, 55, 66],\n",
        " [77, 88, 99]])\n",
        "# separate data\n",
        "split = 2\n",
        "train,test = data[:split,:],data[split:,:]\n",
        "print(train)\n",
        "print(test)"
      ],
      "metadata": {
        "colab": {
          "base_uri": "https://localhost:8080/"
        },
        "id": "rGtzxCNc5QgL",
        "outputId": "a5e2016b-08c7-434a-bbd1-b3922cca42c9"
      },
      "execution_count": 4,
      "outputs": [
        {
          "output_type": "stream",
          "name": "stdout",
          "text": [
            "[[11 22 33]\n",
            " [44 55 66]]\n",
            "[[77 88 99]]\n"
          ]
        }
      ]
    },
    {
      "cell_type": "markdown",
      "source": [
        "Running the example selects the first two rows for training and the last row for the test set."
      ],
      "metadata": {
        "id": "VsHXFjCq5cet"
      }
    },
    {
      "cell_type": "markdown",
      "source": [
        "```\n",
        "[[11 22 33]\n",
        "[44 55 66]]\n",
        "[[77 88 99]]\n",
        "```"
      ],
      "metadata": {
        "id": "so-_B3G45emm"
      }
    },
    {
      "cell_type": "markdown",
      "source": [
        "### **4. Array Reshaping**"
      ],
      "metadata": {
        "id": "naHYqGr25y8W"
      }
    },
    {
      "cell_type": "markdown",
      "source": [
        "After slicing your data, you may need to reshape it.\n",
        "\n",
        "For example, some libraries, such as scikit-learn, may require that a one-dimensional array of output variables (y) be shaped as a two-dimensional array with one column and outcomes for each row.\n",
        "\n",
        "Some algorithms, like the Long Short-Term Memory recurrent neural network in Keras, require input to be specified as a three-dimensional array comprised of samples, timesteps, and features.\n",
        "\n",
        "It is important to know how to reshape your NumPy arrays so that your data meets the expectation of specific Python libraries. We will look at these two examples."
      ],
      "metadata": {
        "id": "5RpwbEMo56pW"
      }
    },
    {
      "cell_type": "markdown",
      "source": [
        "#### **Data Shape**"
      ],
      "metadata": {
        "id": "fmuOEfAZ5_ni"
      }
    },
    {
      "cell_type": "markdown",
      "source": [
        "NumPy arrays have a shape attribute that returns a tuple of the length of each dimension of the array.\n",
        "\n",
        "For example:"
      ],
      "metadata": {
        "id": "3CIeWlOy6CLc"
      }
    },
    {
      "cell_type": "markdown",
      "source": [
        "```\n",
        "# array shape\n",
        "from numpy import array\n",
        "# define array\n",
        "data = array([11, 22, 33, 44, 55])\n",
        "print(data.shape)\n",
        "```"
      ],
      "metadata": {
        "id": "eRGswN_26FQq"
      }
    },
    {
      "cell_type": "code",
      "source": [
        "# array shape\n",
        "from numpy import array\n",
        "# define array\n",
        "data = array([11, 22, 33, 44, 55])\n",
        "print(data.shape)"
      ],
      "metadata": {
        "colab": {
          "base_uri": "https://localhost:8080/"
        },
        "id": "xTCV8LXZ6LML",
        "outputId": "4412ac7b-e66b-4301-d54c-9a64fc56a5a2"
      },
      "execution_count": 5,
      "outputs": [
        {
          "output_type": "stream",
          "name": "stdout",
          "text": [
            "(5,)\n"
          ]
        }
      ]
    },
    {
      "cell_type": "markdown",
      "source": [
        "Running the example prints a tuple for the one dimension."
      ],
      "metadata": {
        "id": "-WgHECFa6OZn"
      }
    },
    {
      "cell_type": "markdown",
      "source": [
        "```\n",
        "(5,)\n",
        "```"
      ],
      "metadata": {
        "id": "SzvdQCY26PDP"
      }
    },
    {
      "cell_type": "markdown",
      "source": [
        "A tuple with two lengths is returned for a two-dimensional array."
      ],
      "metadata": {
        "id": "Ci05ZZ8L6RS5"
      }
    },
    {
      "cell_type": "markdown",
      "source": [
        "```\n",
        "# array shape\n",
        "from numpy import array\n",
        "# list of data\n",
        "data = [[11, 22],\n",
        " [33, 44],\n",
        " [55, 66]]\n",
        "# array of data\n",
        "data = array(data)\n",
        "print(data.shape)\n",
        "```"
      ],
      "metadata": {
        "id": "ZFZfRa5B6TPm"
      }
    },
    {
      "cell_type": "code",
      "source": [
        "# array shape\n",
        "from numpy import array\n",
        "# list of data\n",
        "data = [[11, 22],\n",
        " [33, 44],\n",
        " [55, 66]]\n",
        "# array of data\n",
        "data = array(data)\n",
        "print(data.shape)"
      ],
      "metadata": {
        "colab": {
          "base_uri": "https://localhost:8080/"
        },
        "id": "NZjf0gFA6as8",
        "outputId": "fe3ecd55-7923-494f-bd04-bcd668d378d0"
      },
      "execution_count": 6,
      "outputs": [
        {
          "output_type": "stream",
          "name": "stdout",
          "text": [
            "(3, 2)\n"
          ]
        }
      ]
    },
    {
      "cell_type": "markdown",
      "source": [
        "Running the example returns a tuple with the number of rows and columns."
      ],
      "metadata": {
        "id": "Qvfu-x_Q6XC4"
      }
    },
    {
      "cell_type": "markdown",
      "source": [
        "```\n",
        "(3, 2)\n",
        "```"
      ],
      "metadata": {
        "id": "34rc3At96hCs"
      }
    },
    {
      "cell_type": "markdown",
      "source": [
        "You can use the size of your array dimensions in the shape dimension, such as specifying parameters.\n",
        "\n",
        "The elements of the tuple can be accessed just like an array, with the 0th index for the number of rows and the 1st index for the number of columns. For example:"
      ],
      "metadata": {
        "id": "_erBYLYt6hPs"
      }
    },
    {
      "cell_type": "markdown",
      "source": [
        "```\n",
        "# array shape\n",
        "from numpy import array\n",
        "# list of data\n",
        "data = [[11, 22],\n",
        " [33, 44],\n",
        " [55, 66]]\n",
        "# array of data\n",
        "data = array(data)\n",
        "print('Rows: %d' % data.shape[0])\n",
        "print('Cols: %d' % data.shape[1])\n",
        "```"
      ],
      "metadata": {
        "id": "eFzBRpaJ6ldZ"
      }
    },
    {
      "cell_type": "code",
      "source": [
        "# array shape\n",
        "from numpy import array\n",
        "# list of data\n",
        "data = [[11, 22],\n",
        " [33, 44],\n",
        " [55, 66]]\n",
        "# array of data\n",
        "data = array(data)\n",
        "print('Rows: %d' % data.shape[0])\n",
        "print('Cols: %d' % data.shape[1])"
      ],
      "metadata": {
        "colab": {
          "base_uri": "https://localhost:8080/"
        },
        "id": "00Mt0v_D5cCq",
        "outputId": "2275c40e-f0c7-4d23-b82a-123d0755ec65"
      },
      "execution_count": 7,
      "outputs": [
        {
          "output_type": "stream",
          "name": "stdout",
          "text": [
            "Rows: 3\n",
            "Cols: 2\n"
          ]
        }
      ]
    },
    {
      "cell_type": "markdown",
      "source": [
        "Running the example accesses the specific size of each dimension."
      ],
      "metadata": {
        "id": "cy36FjAv6vWY"
      }
    },
    {
      "cell_type": "markdown",
      "source": [
        "```\n",
        "Rows: 3\n",
        "Cols: 2\n",
        "```"
      ],
      "metadata": {
        "id": "fcbyCE206wG0"
      }
    },
    {
      "cell_type": "markdown",
      "source": [
        "#### **Reshape 1D to 2D Array**"
      ],
      "metadata": {
        "id": "qL4AeWSy608k"
      }
    },
    {
      "cell_type": "markdown",
      "source": [
        "It is common to need to reshape a one-dimensional array into a two-dimensional array with one column and multiple rows.\n",
        "\n",
        "NumPy provides the reshape() function on the NumPy array object that can be used to reshape the data.\n",
        "\n",
        "The reshape() function takes a single argument that specifies the new shape of the array. In the case of reshaping a one-dimensional array into a two-dimensional array with one column, the tuple would be the shape of the array as the first dimension (data.shape[0]) and 1 for the second dimension."
      ],
      "metadata": {
        "id": "OH5223gi68Em"
      }
    },
    {
      "cell_type": "markdown",
      "source": [
        "```\n",
        "data = data.reshape((data.shape[0], 1))\n",
        "```"
      ],
      "metadata": {
        "id": "1NKvco7P6-cK"
      }
    },
    {
      "cell_type": "markdown",
      "source": [
        "Putting this all together, we get the following worked example."
      ],
      "metadata": {
        "id": "-wclKC_x7KJ3"
      }
    },
    {
      "cell_type": "markdown",
      "source": [
        "```\n",
        "# reshape 1D array\n",
        "from numpy import array\n",
        "from numpy import reshape\n",
        "# define array\n",
        "data = array([11, 22, 33, 44, 55])\n",
        "print(data.shape)\n",
        "# reshape\n",
        "data = data.reshape((data.shape[0], 1))\n",
        "print(data.shape)\n",
        "```"
      ],
      "metadata": {
        "id": "JUEjy4Ex7MmH"
      }
    },
    {
      "cell_type": "code",
      "source": [
        "# reshape 1D array\n",
        "from numpy import array\n",
        "from numpy import reshape\n",
        "# define array\n",
        "data = array([11, 22, 33, 44, 55])\n",
        "print(data.shape)\n",
        "# reshape\n",
        "data = data.reshape((data.shape[0], 1))\n",
        "print(data.shape)"
      ],
      "metadata": {
        "colab": {
          "base_uri": "https://localhost:8080/"
        },
        "id": "hKv4TYR27RPT",
        "outputId": "4fa11e44-ced2-453b-aa28-51d07c6028de"
      },
      "execution_count": 8,
      "outputs": [
        {
          "output_type": "stream",
          "name": "stdout",
          "text": [
            "(5,)\n",
            "(5, 1)\n"
          ]
        }
      ]
    },
    {
      "cell_type": "markdown",
      "source": [
        "Running the example prints the shape of the one-dimensional array, reshapes the array to have 5 rows with 1 column, then prints this new shape."
      ],
      "metadata": {
        "id": "DchkAJtr7Up_"
      }
    },
    {
      "cell_type": "markdown",
      "source": [
        "```\n",
        "(5,)\n",
        "(5, 1)\n",
        "```"
      ],
      "metadata": {
        "id": "1_0SdIWm7VOW"
      }
    },
    {
      "cell_type": "markdown",
      "source": [
        "#### **Reshape 2D to 3D Array**"
      ],
      "metadata": {
        "id": "TDGQyCjt7Xdl"
      }
    },
    {
      "cell_type": "markdown",
      "source": [
        "It is common to need to reshape two-dimensional data where each row represents a sequence into a three-dimensional array for algorithms that expect multiple samples of one or more time steps and one or more features.\n",
        "\n",
        "A good example is the ***LSTM recurrent neural network model in the Keras deep learning library.***\n",
        "\n",
        "The reshape function can be used directly, specifying the new dimensionality. This is clear with an example where each sequence has multiple time steps with one observation (feature) at each time step.\n",
        "\n",
        "We can use the sizes in the shape attribute on the array to specify the number of samples (rows) and columns (time steps) and fix the number of features at 1."
      ],
      "metadata": {
        "id": "DdhzXsy77cIm"
      }
    },
    {
      "cell_type": "markdown",
      "source": [
        "```\n",
        "data.reshape((data.shape[0], data.shape[1], 1))\n",
        "```"
      ],
      "metadata": {
        "id": "8n9GfeyI7paG"
      }
    },
    {
      "cell_type": "markdown",
      "source": [
        "Putting this all together, we get the following worked example."
      ],
      "metadata": {
        "id": "WpHyPzsW7v7d"
      }
    },
    {
      "cell_type": "markdown",
      "source": [
        "```\n",
        "# reshape 2D array\n",
        "from numpy import array\n",
        "# list of data\n",
        "data = [[11, 22],\n",
        " [33, 44],\n",
        " [55, 66]]\n",
        "# array of data\n",
        "data = array(data)\n",
        "print(data.shape)\n",
        "# reshape\n",
        "data = data.reshape((data.shape[0], data.shape[1], 1))\n",
        "print(data.shape)\n",
        "```"
      ],
      "metadata": {
        "id": "IKJDIoR-7xzp"
      }
    },
    {
      "cell_type": "code",
      "source": [
        "# reshape 2D array\n",
        "from numpy import array\n",
        "# list of data\n",
        "data = [[11, 22],\n",
        " [33, 44],\n",
        " [55, 66]]\n",
        "# array of data\n",
        "data = array(data)\n",
        "print(data.shape)\n",
        "# reshape\n",
        "data = data.reshape((data.shape[0], data.shape[1], 1))\n",
        "print(data.shape)"
      ],
      "metadata": {
        "colab": {
          "base_uri": "https://localhost:8080/"
        },
        "id": "bwX9sz7W73YC",
        "outputId": "b3bd0961-ddd7-4377-9c07-e56064fcff40"
      },
      "execution_count": 9,
      "outputs": [
        {
          "output_type": "stream",
          "name": "stdout",
          "text": [
            "(3, 2)\n",
            "(3, 2, 1)\n"
          ]
        }
      ]
    },
    {
      "cell_type": "markdown",
      "source": [
        "Running the example first prints the size of each dimension in the 2D array, reshapes the array, then summarizes the shape of the new 3D array."
      ],
      "metadata": {
        "id": "0VDWovDt72Jv"
      }
    },
    {
      "cell_type": "markdown",
      "source": [
        "```\n",
        "(3, 2)\n",
        "(3, 2, 1)\n",
        "```"
      ],
      "metadata": {
        "id": "r5tSouFg77uK"
      }
    }
  ]
}