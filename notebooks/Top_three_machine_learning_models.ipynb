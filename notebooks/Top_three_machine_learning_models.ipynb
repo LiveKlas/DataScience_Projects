{
  "nbformat": 4,
  "nbformat_minor": 0,
  "metadata": {
    "colab": {
      "provenance": [],
      "authorship_tag": "ABX9TyNfA/2B6sUY7HtCtMg2y7rX",
      "include_colab_link": true
    },
    "kernelspec": {
      "name": "python3",
      "display_name": "Python 3"
    },
    "language_info": {
      "name": "python"
    }
  },
  "cells": [
    {
      "cell_type": "markdown",
      "metadata": {
        "id": "view-in-github",
        "colab_type": "text"
      },
      "source": [
        "<a href=\"https://colab.research.google.com/github/LiveKlas/DataScience_Projects/blob/main/notebooks/Top_three_machine_learning_models.ipynb\" target=\"_parent\"><img src=\"https://colab.research.google.com/assets/colab-badge.svg\" alt=\"Open In Colab\"/></a>"
      ]
    },
    {
      "cell_type": "code",
      "execution_count": null,
      "metadata": {
        "id": "IoBPqH46mw86"
      },
      "outputs": [],
      "source": []
    },
    {
      "cell_type": "markdown",
      "source": [
        "# **Top three machine learning models**"
      ],
      "metadata": {
        "id": "-KyUYfW5m0zr"
      }
    },
    {
      "cell_type": "markdown",
      "source": [
        "**Machine learning,** an increasingly influential force in the IT sector, has witnessed significant growth in recent years. Its applications span various domains, from recommendation systems to the development of autonomous vehicles. As technology continues to advance, acquiring knowledge about machine learning becomes imperative for professionals in the software and data science industries. Embracing the principles and applications of machine learning is not just beneficial; it is becoming a fundamental requirement for staying abreast of industry developments and fostering innovation. In this blog, we will explore the top three machine learning models, delving into their intricacies and applications to gain a comprehensive understanding of their significance in the field."
      ],
      "metadata": {
        "id": "dHrsYPNPm3pr"
      }
    },
    {
      "cell_type": "markdown",
      "source": [
        "So, what exactly is machine learning? Machine learning is a field of artificial intelligence (AI) that focuses on the development of algorithms and models that enable computers to learn from and make predictions or decisions based on data without being explicitly programmed for specific tasks. In essence, machine learning algorithms allow computers to identify patterns in data and improve their performance over time through experience.\n",
        "\n",
        "Before we explore the algorithms, let's have a brief look at the different machine learning types.\n",
        "\n",
        "**Types of machine learning**\n",
        "\n",
        "There are three primary categories for machine learning:\n",
        "\n",
        "* Supervised learning\n",
        "\n",
        "* Unsupervised learning\n",
        "\n",
        "* Reinforcement learning\n",
        "\n",
        "\n",
        "\n",
        "\n",
        "Categories of machine learning\n",
        "\n",
        "**Supervised learning** is a category of machine learning in which the algorithm leverages labeled training data to formulate predictions or decisions. In this framework, the algorithm undergoes training on a dataset that comprises input data along with associated desired outputs. The objective is to grasp a mapping function from the input to the output, enabling the algorithm to predict outcomes for unseen data. In essence, the algorithm is guided by the provided dataset and supervised to discern patterns and relationships within the data. Supervised learning algorithms can further be classified as classification algorithms and regression algorithms.\n",
        "\n",
        "**Unsupervised learning**, on the other hand, has no target or class attribute. The techniques employed in unsupervised learning aim to uncover inherent patterns within data commonly employed for exploratory data analysis. In unsupervised learning, the algorithms are focused on the data’s features. The objective is to identify relationships within the data and organize data points based on a similarity matrix.\n",
        "\n",
        "\n",
        "Unsupervised vs. supervised learning\n",
        "\n",
        "\n",
        "**Reinforcement learning** directs its attention toward instructing agents to make specific decisions by drawing from their experiences in a dynamic environment. At its core, the reinforcement learning paradigm is built on the idea that an agent can develop decision-making abilities through active engagement with its environment. As the agent makes decisions aimed at optimizing cumulative rewards, it attains the capability to successfully execute tasks within an unpredictable and occasionally complex setting.\n",
        "\n",
        "The basic components of reinforcement learning include five components: agent, environment, actions, state, and rewards. The figure below shows the action-reward feedback loop of a generic reinforcement learning model.\n",
        "\n",
        "\n",
        "A basic diagram of reinforcement learning\n",
        "\n",
        "\n",
        "\n",
        "The loop process shown above can be summarized as follows:\n",
        "\n",
        "**1. Initialization:** The environment is initialized, and the agent begins in a starting state.\n",
        "\n",
        "**2. Observation:** The agent observes the current state of the environment.\n",
        "\n",
        "**3. Action Selection:** Based on the observed state and its internal policy, the agent selects an action  to take.\n",
        "\n",
        "**4. Interaction:** The agent takes the selected action, and it interacts with the environment.\n",
        "\n",
        "**5. Feedback:** The environment provides feedback to the agent in the form of a reward signal (Rt), indicating the quality of the action taken.\n",
        "\n",
        "**6. State transition:** The environment transitions to a new state based on the action taken by the agent.\n",
        "\n",
        "**7. Learning:** Steps 2–6 are repeated iteratively, with the agent continuously observing states, selecting actions, receiving rewards, and causing state transitions. Through this iterative process, the agent learns which actions lead to favorable outcomes (higher rewards) and adjusts its behavior accordingly to maximize cumulative rewards over time.\n",
        "\n",
        "**8. Termination:** The loop process will terminate after a predefined number of iterations or when certain conditions are met, such as achieving a specific goal or reaching a terminal state.\n",
        "\n",
        "Now that we have covered the basics, let's take a look at the top three machine learning models."
      ],
      "metadata": {
        "id": "_AUSq4_enOGk"
      }
    },
    {
      "cell_type": "markdown",
      "source": [
        "## **Linear regression**"
      ],
      "metadata": {
        "id": "HsB4cTHk78Nn"
      }
    },
    {
      "cell_type": "markdown",
      "source": [
        "\n",
        "\n",
        "This is one of the most popular and simplest machine learning algorithms. Linear regression is a supervised learning algorithm, and it aims to discover a linear line that optimally aligns with scattered data points on a graph. Its goal is to model the connection between independent variables (the x values) and a numerical outcome (the y values) by fitting the equation of a line to the given data. This resulting line can subsequently be employed to make predictions for future values.\n",
        "\n",
        "The line that best fits the data is referred to as the regression line, and it's expressed through a linear equation:\n",
        "\n",
        "          Y=a∗X+b\n",
        "\n",
        "Where:\n",
        "\n",
        "* 𝑌 is the dependent, also known as the outcome or response, variable.\n",
        "\n",
        "* 𝑋 is the independent, or predictor variable.\n",
        "\n",
        "* 𝑎 represents the incline or steepness of the line.\n",
        "\n",
        "* 𝑏 is the y-intercept."
      ],
      "metadata": {
        "id": "CiSCZFrqtwL8"
      }
    },
    {
      "cell_type": "markdown",
      "source": [
        "**Note:** In the equation above, we're assuming that there is only one independent variable to keep things simple."
      ],
      "metadata": {
        "id": "NU8XjIZkuYPk"
      }
    },
    {
      "cell_type": "markdown",
      "source": [
        "In linear regression, various techniques and methodologies can be employed to enhance or adapt the model to different scenarios. Some of these include the following:\n",
        "\n",
        "* **Ordinary least squares (OLS)** aims to minimize the sum of squared variances between observed and predicted values.\n",
        "\n",
        "* **Lasso regression**, also known as **L1 regularization**, incorporates the absolute values of the coefficients into the cost function as a penalty term.\n",
        "\n",
        "* **Ridge regression (L2 regularization)** introduces the squared values of the coefficients into the cost function as a penalty term.\n",
        "\n",
        "**Stepwise regression** iteratively adds or removes predictors based on statistical criteria (forward selection, backward elimination, or both).\n",
        "\n",
        "\n",
        "The linear regression models are commonly evaluated using the mean squared error (MSE), which calculates the average squared difference between actual and predicted values.\n",
        "\n",
        "Linear regression finds applications across various domains due to its simplicity and versatility. Some common applications include:\n",
        "\n",
        "* **Stock price prediction:** Linear regression can be used to model the relationship between financial indicators and stock prices, assisting in predicting future stock values.\n",
        "\n",
        "* **Route and pricing optimization:** Ride-sharing platforms, such as Uber, leverage regression analysis to enhance dynamic pricing and optimize routes. By analyzing historical data, evaluating real-time traffic conditions, and considering user preferences, these companies can refine their route planning and implement effective pricing strategies.\n",
        "\n",
        "* **Real estate valuation:** Real estate agents, sellers, and buyers frequently use regression methods to assess property values. These techniques enable them to calculate property prices based on factors such as amenities, size, and location, incorporating historical data like market values and sales patterns.\n",
        "\n",
        "Below, we have a simple example of the linear regression code using Python and the popular machine learning library sklearn. We'll use the well-known Boston Housing dataset, which is included in sklearn.\n",
        "\n",
        "Note: The following code will output an image and the values of a, b, and MSE."
      ],
      "metadata": {
        "id": "ORxMGQKYupk0"
      }
    },
    {
      "cell_type": "markdown",
      "source": [
        "```\n",
        "import numpy as np\n",
        "import matplotlib.pyplot as plt\n",
        "from sklearn.model_selection import train_test_split\n",
        "from sklearn.linear_model import LinearRegression\n",
        "from sklearn.datasets import load_boston\n",
        "from sklearn.metrics import mean_squared_error\n",
        "\n",
        "# Loading the Boston Housing dataset\n",
        "boston = load_boston()\n",
        "X = boston.data[:, np.newaxis, 2]  # Using only one feature for simplicity (average number of rooms per dwelling)\n",
        "y = boston.target\n",
        "\n",
        "# Splitting the data into training and testing sets\n",
        "X_train, X_test, y_train, y_test = train_test_split(X, y, test_size=0.2, random_state=42)\n",
        "\n",
        "# Creating a linear regression model, training, and getting the prediction\n",
        "lin_reg = LinearRegression()\n",
        "lin_reg.fit(X_train, y_train)\n",
        "y_pred = lin_reg.predict(X_test)\n",
        "\n",
        "# Printing the model coefficients and intercept\n",
        "print(\"Coefficients:\", lin_reg.coef_)\n",
        "print(\"Intercept:\", lin_reg.intercept_)\n",
        "\n",
        "# Evaluating the model performance\n",
        "mse = mean_squared_error(y_test, y_pred)\n",
        "print(\"Mean Squared Error:\", mse)\n",
        "\n",
        "# Plotting the training data and regression line\n",
        "plt.scatter(X_train, y_train, color='blue', label='Training Data')\n",
        "plt.scatter(X_test, y_test, color='red', label='Testing Data')\n",
        "plt.plot(X_test, y_pred, color='green', linewidth=3, label='Regression Line')\n",
        "plt.xlabel('Average Number of Rooms')\n",
        "plt.ylabel('House Price')\n",
        "```"
      ],
      "metadata": {
        "id": "_Jtu9j0Pv2Nb"
      }
    },
    {
      "cell_type": "code",
      "source": [
        "import numpy as np\n",
        "import matplotlib.pyplot as plt\n",
        "from sklearn.model_selection import train_test_split\n",
        "from sklearn.linear_model import LinearRegression\n",
        "from sklearn.datasets import load_boston\n",
        "from sklearn.metrics import mean_squared_error\n",
        "\n",
        "# Loading the Boston Housing dataset\n",
        "boston = load_boston()\n",
        "X = boston.data[:, np.newaxis, 2]  # Using only one feature for simplicity (average number of rooms per dwelling)\n",
        "y = boston.target\n",
        "\n",
        "# Splitting the data into training and testing sets\n",
        "X_train, X_test, y_train, y_test = train_test_split(X, y, test_size=0.2, random_state=42)\n",
        "\n",
        "# Creating a linear regression model, training, and getting the prediction\n",
        "lin_reg = LinearRegression()\n",
        "lin_reg.fit(X_train, y_train)\n",
        "y_pred = lin_reg.predict(X_test)\n",
        "\n",
        "# Printing the model coefficients and intercept\n",
        "print(\"Coefficients:\", lin_reg.coef_)\n",
        "print(\"Intercept:\", lin_reg.intercept_)\n",
        "\n",
        "# Evaluating the model performance\n",
        "mse = mean_squared_error(y_test, y_pred)\n",
        "print(\"Mean Squared Error:\", mse)\n",
        "\n",
        "# Plotting the training data and regression line\n",
        "plt.scatter(X_train, y_train, color='blue', label='Training Data')\n",
        "plt.scatter(X_test, y_test, color='red', label='Testing Data')\n",
        "plt.plot(X_test, y_pred, color='green', linewidth=3, label='Regression Line')\n",
        "plt.xlabel('Average Number of Rooms')\n",
        "plt.ylabel('House Price')"
      ],
      "metadata": {
        "colab": {
          "base_uri": "https://localhost:8080/",
          "height": 1000
        },
        "id": "_opYWhNuvx0M",
        "outputId": "7766a07c-8d0c-414e-d97a-4f9cca97cb78"
      },
      "execution_count": 1,
      "outputs": [
        {
          "output_type": "error",
          "ename": "ImportError",
          "evalue": "\n`load_boston` has been removed from scikit-learn since version 1.2.\n\nThe Boston housing prices dataset has an ethical problem: as\ninvestigated in [1], the authors of this dataset engineered a\nnon-invertible variable \"B\" assuming that racial self-segregation had a\npositive impact on house prices [2]. Furthermore the goal of the\nresearch that led to the creation of this dataset was to study the\nimpact of air quality but it did not give adequate demonstration of the\nvalidity of this assumption.\n\nThe scikit-learn maintainers therefore strongly discourage the use of\nthis dataset unless the purpose of the code is to study and educate\nabout ethical issues in data science and machine learning.\n\nIn this special case, you can fetch the dataset from the original\nsource::\n\n    import pandas as pd\n    import numpy as np\n\n    data_url = \"http://lib.stat.cmu.edu/datasets/boston\"\n    raw_df = pd.read_csv(data_url, sep=\"\\s+\", skiprows=22, header=None)\n    data = np.hstack([raw_df.values[::2, :], raw_df.values[1::2, :2]])\n    target = raw_df.values[1::2, 2]\n\nAlternative datasets include the California housing dataset and the\nAmes housing dataset. You can load the datasets as follows::\n\n    from sklearn.datasets import fetch_california_housing\n    housing = fetch_california_housing()\n\nfor the California housing dataset and::\n\n    from sklearn.datasets import fetch_openml\n    housing = fetch_openml(name=\"house_prices\", as_frame=True)\n\nfor the Ames housing dataset.\n\n[1] M Carlisle.\n\"Racist data destruction?\"\n<https://medium.com/@docintangible/racist-data-destruction-113e3eff54a8>\n\n[2] Harrison Jr, David, and Daniel L. Rubinfeld.\n\"Hedonic housing prices and the demand for clean air.\"\nJournal of environmental economics and management 5.1 (1978): 81-102.\n<https://www.researchgate.net/publication/4974606_Hedonic_housing_prices_and_the_demand_for_clean_air>\n",
          "traceback": [
            "\u001b[0;31m---------------------------------------------------------------------------\u001b[0m",
            "\u001b[0;31mImportError\u001b[0m                               Traceback (most recent call last)",
            "\u001b[0;32m<ipython-input-1-d2e7a96af467>\u001b[0m in \u001b[0;36m<cell line: 5>\u001b[0;34m()\u001b[0m\n\u001b[1;32m      3\u001b[0m \u001b[0;32mfrom\u001b[0m \u001b[0msklearn\u001b[0m\u001b[0;34m.\u001b[0m\u001b[0mmodel_selection\u001b[0m \u001b[0;32mimport\u001b[0m \u001b[0mtrain_test_split\u001b[0m\u001b[0;34m\u001b[0m\u001b[0;34m\u001b[0m\u001b[0m\n\u001b[1;32m      4\u001b[0m \u001b[0;32mfrom\u001b[0m \u001b[0msklearn\u001b[0m\u001b[0;34m.\u001b[0m\u001b[0mlinear_model\u001b[0m \u001b[0;32mimport\u001b[0m \u001b[0mLinearRegression\u001b[0m\u001b[0;34m\u001b[0m\u001b[0;34m\u001b[0m\u001b[0m\n\u001b[0;32m----> 5\u001b[0;31m \u001b[0;32mfrom\u001b[0m \u001b[0msklearn\u001b[0m\u001b[0;34m.\u001b[0m\u001b[0mdatasets\u001b[0m \u001b[0;32mimport\u001b[0m \u001b[0mload_boston\u001b[0m\u001b[0;34m\u001b[0m\u001b[0;34m\u001b[0m\u001b[0m\n\u001b[0m\u001b[1;32m      6\u001b[0m \u001b[0;32mfrom\u001b[0m \u001b[0msklearn\u001b[0m\u001b[0;34m.\u001b[0m\u001b[0mmetrics\u001b[0m \u001b[0;32mimport\u001b[0m \u001b[0mmean_squared_error\u001b[0m\u001b[0;34m\u001b[0m\u001b[0;34m\u001b[0m\u001b[0m\n\u001b[1;32m      7\u001b[0m \u001b[0;34m\u001b[0m\u001b[0m\n",
            "\u001b[0;32m/usr/local/lib/python3.10/dist-packages/sklearn/datasets/__init__.py\u001b[0m in \u001b[0;36m__getattr__\u001b[0;34m(name)\u001b[0m\n\u001b[1;32m    154\u001b[0m             \"\"\"\n\u001b[1;32m    155\u001b[0m         )\n\u001b[0;32m--> 156\u001b[0;31m         \u001b[0;32mraise\u001b[0m \u001b[0mImportError\u001b[0m\u001b[0;34m(\u001b[0m\u001b[0mmsg\u001b[0m\u001b[0;34m)\u001b[0m\u001b[0;34m\u001b[0m\u001b[0;34m\u001b[0m\u001b[0m\n\u001b[0m\u001b[1;32m    157\u001b[0m     \u001b[0;32mtry\u001b[0m\u001b[0;34m:\u001b[0m\u001b[0;34m\u001b[0m\u001b[0;34m\u001b[0m\u001b[0m\n\u001b[1;32m    158\u001b[0m         \u001b[0;32mreturn\u001b[0m \u001b[0mglobals\u001b[0m\u001b[0;34m(\u001b[0m\u001b[0;34m)\u001b[0m\u001b[0;34m[\u001b[0m\u001b[0mname\u001b[0m\u001b[0;34m]\u001b[0m\u001b[0;34m\u001b[0m\u001b[0;34m\u001b[0m\u001b[0m\n",
            "\u001b[0;31mImportError\u001b[0m: \n`load_boston` has been removed from scikit-learn since version 1.2.\n\nThe Boston housing prices dataset has an ethical problem: as\ninvestigated in [1], the authors of this dataset engineered a\nnon-invertible variable \"B\" assuming that racial self-segregation had a\npositive impact on house prices [2]. Furthermore the goal of the\nresearch that led to the creation of this dataset was to study the\nimpact of air quality but it did not give adequate demonstration of the\nvalidity of this assumption.\n\nThe scikit-learn maintainers therefore strongly discourage the use of\nthis dataset unless the purpose of the code is to study and educate\nabout ethical issues in data science and machine learning.\n\nIn this special case, you can fetch the dataset from the original\nsource::\n\n    import pandas as pd\n    import numpy as np\n\n    data_url = \"http://lib.stat.cmu.edu/datasets/boston\"\n    raw_df = pd.read_csv(data_url, sep=\"\\s+\", skiprows=22, header=None)\n    data = np.hstack([raw_df.values[::2, :], raw_df.values[1::2, :2]])\n    target = raw_df.values[1::2, 2]\n\nAlternative datasets include the California housing dataset and the\nAmes housing dataset. You can load the datasets as follows::\n\n    from sklearn.datasets import fetch_california_housing\n    housing = fetch_california_housing()\n\nfor the California housing dataset and::\n\n    from sklearn.datasets import fetch_openml\n    housing = fetch_openml(name=\"house_prices\", as_frame=True)\n\nfor the Ames housing dataset.\n\n[1] M Carlisle.\n\"Racist data destruction?\"\n<https://medium.com/@docintangible/racist-data-destruction-113e3eff54a8>\n\n[2] Harrison Jr, David, and Daniel L. Rubinfeld.\n\"Hedonic housing prices and the demand for clean air.\"\nJournal of environmental economics and management 5.1 (1978): 81-102.\n<https://www.researchgate.net/publication/4974606_Hedonic_housing_prices_and_the_demand_for_clean_air>\n",
            "",
            "\u001b[0;31m---------------------------------------------------------------------------\u001b[0;32m\nNOTE: If your import is failing due to a missing package, you can\nmanually install dependencies using either !pip or !apt.\n\nTo view examples of installing some common dependencies, click the\n\"Open Examples\" button below.\n\u001b[0;31m---------------------------------------------------------------------------\u001b[0m\n"
          ],
          "errorDetails": {
            "actions": [
              {
                "action": "open_url",
                "actionText": "Open Examples",
                "url": "/notebooks/snippets/importing_libraries.ipynb"
              }
            ]
          }
        }
      ]
    },
    {
      "cell_type": "markdown",
      "source": [
        "```\n",
        "import pandas as pd\n",
        "import numpy as np\n",
        "\n",
        "data_url = \"http://lib.stat.cmu.edu/datasets/boston\"\n",
        "raw_df = pd.read_csv(data_url, sep=\"\\s+\", skiprows=22, header=None)\n",
        "data = np.hstack([raw_df.values[::2, :], raw_df.values[1::2, :2]])\n",
        "target = raw_df.values[1::2, 2]\n",
        "```"
      ],
      "metadata": {
        "id": "Mpxoll8dwtN3"
      }
    },
    {
      "cell_type": "markdown",
      "source": [
        "\n",
        "Alternative datasets include the California housing dataset and the\n",
        "Ames housing dataset. You can load the datasets as follows::\n",
        "\n",
        "```\n",
        "from sklearn.datasets import fetch_california_housing\n",
        "housing = fetch_california_housing()\n",
        "```\n",
        "\n",
        "for the California housing dataset and::\n",
        "\n",
        "```\n",
        "from sklearn.datasets import fetch_openml\n",
        "housing = fetch_openml(name=\"house_prices\", as_frame=True)\n",
        "```\n",
        "\n",
        "for the Ames housing dataset.\n"
      ],
      "metadata": {
        "id": "zdFB461Qw3wk"
      }
    },
    {
      "cell_type": "markdown",
      "source": [],
      "metadata": {
        "id": "Rzry_f0Iwv5r"
      }
    },
    {
      "cell_type": "code",
      "source": [
        "import numpy as np\n",
        "import matplotlib.pyplot as plt\n",
        "from sklearn.model_selection import train_test_split\n",
        "from sklearn.linear_model import LinearRegression\n",
        "# from sklearn.datasets import load_boston\n",
        "from sklearn.datasets import fetch_california_housing\n",
        "from sklearn.datasets import fetch_openml\n",
        "from sklearn.metrics import mean_squared_error\n",
        "\n",
        "# Loading the Boston Housing dataset\n",
        "# boston = load_boston()\n",
        "# X = boston.data[:, np.newaxis, 2]  # Using only one feature for simplicity (average number of rooms per dwelling)\n",
        "# y = boston.target\n",
        "\n",
        "# Loading the California Housing dataset\n",
        "california = fetch_california_housing()\n",
        "X = california.data[:, np.newaxis, 2]  # Using only one feature for simplicity (average number of rooms per dwelling)\n",
        "y = california.target\n",
        "\n",
        "# Splitting the data into training and testing sets\n",
        "X_train, X_test, y_train, y_test = train_test_split(X, y, test_size=0.2, random_state=42)\n",
        "\n",
        "# Creating a linear regression model, training, and getting the prediction\n",
        "lin_reg = LinearRegression()\n",
        "lin_reg.fit(X_train, y_train)\n",
        "y_pred = lin_reg.predict(X_test)\n",
        "\n",
        "# Printing the model coefficients and intercept\n",
        "print(\"Coefficients:\", lin_reg.coef_)\n",
        "print(\"Intercept:\", lin_reg.intercept_)\n",
        "\n",
        "# Evaluating the model performance\n",
        "mse = mean_squared_error(y_test, y_pred)\n",
        "print(\"Mean Squared Error:\", mse)\n",
        "\n",
        "# Plotting the training data and regression line\n",
        "plt.scatter(X_train, y_train, color='blue', label='Training Data')\n",
        "plt.scatter(X_test, y_test, color='red', label='Testing Data')\n",
        "plt.plot(X_test, y_pred, color='green', linewidth=3, label='Regression Line')\n",
        "plt.xlabel('Average Number of Rooms')\n",
        "plt.ylabel('House Price')"
      ],
      "metadata": {
        "colab": {
          "base_uri": "https://localhost:8080/",
          "height": 520
        },
        "outputId": "44cd2382-92c1-41d2-d1c4-9b9a98b18bde",
        "id": "vBojPMb3wTUW"
      },
      "execution_count": 2,
      "outputs": [
        {
          "output_type": "stream",
          "name": "stdout",
          "text": [
            "Coefficients: [0.07675559]\n",
            "Intercept: 1.6547622685968417\n",
            "Mean Squared Error: 1.2923314440807299\n"
          ]
        },
        {
          "output_type": "execute_result",
          "data": {
            "text/plain": [
              "Text(0, 0.5, 'House Price')"
            ]
          },
          "metadata": {},
          "execution_count": 2
        },
        {
          "output_type": "display_data",
          "data": {
            "text/plain": [
              "<Figure size 640x480 with 1 Axes>"
            ],
            "image/png": "[encoded data removed]"
          },
          "metadata": {}
        }
      ]
    },
    {
      "cell_type": "markdown",
      "source": [
        "*Linear regression using the sklearn library*"
      ],
      "metadata": {
        "id": "mLkLF61YyI2p"
      }
    },
    {
      "cell_type": "markdown",
      "source": [
        "Code explanation:\n",
        "\n",
        "\n",
        "Lines 1–8: We import the required libraries: NumPy for numerical operations, Matplotlib for plotting, and sklearn for machine learning-related functions, specifically the LinearRegression class for linear regression modeling.\n",
        "\n",
        "Lines 16–18: We load the Housing dataset from sklearn and extract only one feature (average number of rooms per dwelling) for simplicity. X represents the input feature (average number of rooms per dwelling), and y represents the target variable (house prices).\n",
        "\n",
        "Line 21: We divide the dataset into training and testing sets through the train_test_split function. In this process, 80% of the data is allocated for training, while the remaining 20% is reserved for testing.\n",
        "\n",
        "Lines 24–26: We utilize sklearn's LinearRegression class to construct a linear regression model. Subsequently, we proceed to train this model with the training data. Once trained, we apply the model to make predictions on the testing set.\n",
        "\n",
        "Lines 29–30: We display the linear regression model's coefficients and intercept.\n",
        "\n",
        "Lines 33–34: We evaluate the model performance using MSE and print the result.\n",
        "\n",
        "Lines 37–41: We plot the training data, testing data, and the regression line to visualize the model's predictions."
      ],
      "metadata": {
        "id": "kZBYhyjcy3Ws"
      }
    },
    {
      "cell_type": "markdown",
      "source": [
        "## **Logistic regression**"
      ],
      "metadata": {
        "id": "zRoaJSCL716H"
      }
    },
    {
      "cell_type": "markdown",
      "source": [
        "Do't let the name mislead you! Despite being named logistic regression, it's actually a classification algorithm rather than a regression algorithm. Logistic regression is used to predict binary values. It determines the likelihood of an event occurring by aligning data with a logistic function. It’s focused on probability prediction, so the output values fall within the range of 0 to 1.\n",
        "\n",
        "The logistic function is used by the logistic regression model to describe the likelihood of a binary result. An S-shaped curve that converts any real number into a value between 0 and 1 is used to depict this logistic function. The logistic function is defined as:"
      ],
      "metadata": {
        "id": "6z8uMIQwyLvh"
      }
    },
    {
      "cell_type": "code",
      "source": [],
      "metadata": {
        "id": "c0dfqZoD8piW"
      },
      "execution_count": null,
      "outputs": []
    },
    {
      "cell_type": "markdown",
      "source": [
        "Where:\n",
        "\n",
        "𝑃 is the probability value.\n",
        "\n",
        "𝑒 is the base of the natural logarithm (about 2.718).\n",
        "\n",
        "𝑎 is the y-intercept.\n",
        "\n",
        "𝑏\n",
        "𝑖 is the coefficient associated with the predictor variable\n",
        "\n",
        "𝑋\n",
        "𝑖  Note that the value of 𝑖  is between 1 and 𝑛.\n",
        "\n",
        "𝑋\n",
        "𝑖  is the independent variable."
      ],
      "metadata": {
        "id": "YVibFW5b8p7H"
      }
    },
    {
      "cell_type": "markdown",
      "source": [
        "Logistic regression models are evaluated using various metrics that assess the model’s performance in predicting the outcomes, including accuracy, F1-score, and area under the curve (AUC).\n",
        "\n",
        "Some of the common applications that can use the logistic regression technique include:\n",
        "\n",
        "Marketing and customer analytics: Logistic regression can be used to predict the probability of a customer making a purchase or responding to a marketing campaign based on demographic and behavioral data.\n",
        "\n",
        "Natural language processing (NLP): Text sentiment analysis can use the logistic regression method to classify text as positive or negative based on the sentiment expressed.\n",
        "\n",
        "Epidemiology: Linear regression can be used to study the risk factors for a particular disease and predicting the likelihood of an individual developing the disease.\n",
        "\n",
        "Below, we have a simple example of logistic regression code using Python and the popular machine learning library, sklearn. We'll use the famous Breast Cancer Wisconsin dataset included in sklearn."
      ],
      "metadata": {
        "id": "InwYTlBF7jsP"
      }
    },
    {
      "cell_type": "markdown",
      "source": [
        "**Note:** The following code will output an image and the values of accuracy, the confusion matrix, the classification report, the model intercept, and different coefficients."
      ],
      "metadata": {
        "id": "p2yIFQdu9SS9"
      }
    },
    {
      "cell_type": "code",
      "source": [
        "import numpy as np\n",
        "import matplotlib.pyplot as plt\n",
        "from sklearn.datasets import load_breast_cancer\n",
        "from sklearn.model_selection import train_test_split\n",
        "from sklearn.preprocessing import StandardScaler\n",
        "from sklearn.linear_model import LogisticRegression\n",
        "from sklearn.metrics import accuracy_score, confusion_matrix, classification_report, roc_curve, auc\n",
        "\n",
        "# Loading the Breast Cancer Wisconsin dataset (binary classification)\n",
        "cancer = load_breast_cancer()\n",
        "X = cancer.data\n",
        "y = cancer.target\n",
        "\n",
        "# Splitting the data into training and testing sets\n",
        "X_train, X_test, y_train, y_test = train_test_split(X, y, test_size=0.2, random_state=42)\n",
        "\n",
        "# Standardizing features (important for logistic regression)\n",
        "scaler = StandardScaler()\n",
        "X_train = scaler.fit_transform(X_train)\n",
        "X_test = scaler.transform(X_test)\n",
        "\n",
        "# Creating a logistic regression model, training the model, and making predictions\n",
        "model = LogisticRegression()\n",
        "model.fit(X_train, y_train)\n",
        "y_pred = model.predict(X_test)\n",
        "\n",
        "# Evaluating the model performance\n",
        "accuracy = accuracy_score(y_test, y_pred)\n",
        "conf_matrix = confusion_matrix(y_test, y_pred)\n",
        "classification_rep = classification_report(y_test, y_pred)\n",
        "\n",
        "# Printing the results\n",
        "print(f\"Accuracy: {accuracy:.2f}\")\n",
        "print(\"Confusion Matrix:\\n\", conf_matrix)\n",
        "print(\"Classification Report:\\n\", classification_rep)\n",
        "\n",
        "#The coefficients and feature importance\n",
        "print(\"Model Coefficients:\\n\", model.coef_)\n",
        "print(\"Model Intercept:\\n\", model.intercept_)\n",
        "\n",
        "# Computing ROC curve and ROC area\n",
        "fpr, tpr, _ = roc_curve(y_test, model.predict_proba(X_test)[:, 1])\n",
        "roc_auc = auc(fpr, tpr)\n",
        "\n",
        "# Plotting ROC curve\n",
        "plt.figure(figsize=(8, 6))\n",
        "plt.plot(fpr, tpr, color='darkorange', lw=2, label='ROC curve (AUC = {:.2f})'.format(roc_auc))\n",
        "plt.plot([0, 1], [0, 1], color='navy', lw=2, linestyle=':')\n",
        "plt.xlim([0.0, 1.0])\n",
        "plt.ylim([0.0, 1.05])\n",
        "plt.xlabel('False Positive Rate')\n",
        "plt.ylabel('True Positive Rate')\n",
        "plt.title('Receiver Operating Characteristic (ROC) Curve')\n",
        "plt.legend(loc=\"lower right\")"
      ],
      "metadata": {
        "colab": {
          "base_uri": "https://localhost:8080/",
          "height": 975
        },
        "id": "6yMlR2A_9ZFA",
        "outputId": "8bed10bc-53cf-4dd6-e326-d5abdcbdfde8"
      },
      "execution_count": 10,
      "outputs": [
        {
          "output_type": "stream",
          "name": "stdout",
          "text": [
            "Accuracy: 0.97\n",
            "Confusion Matrix:\n",
            " [[41  2]\n",
            " [ 1 70]]\n",
            "Classification Report:\n",
            "               precision    recall  f1-score   support\n",
            "\n",
            "           0       0.98      0.95      0.96        43\n",
            "           1       0.97      0.99      0.98        71\n",
            "\n",
            "    accuracy                           0.97       114\n",
            "   macro avg       0.97      0.97      0.97       114\n",
            "weighted avg       0.97      0.97      0.97       114\n",
            "\n",
            "Model Coefficients:\n",
            " [[-0.42789615 -0.39391343 -0.38955025 -0.46431618 -0.06675416  0.54210625\n",
            "  -0.79677127 -1.1170207   0.23571257  0.07670117 -1.27114722  0.18863977\n",
            "  -0.60936581 -0.90979979 -0.31246106  0.68597229  0.18081531 -0.31769168\n",
            "   0.49997976  0.61340541 -0.87861043 -1.3421883  -0.58755707 -0.84655924\n",
            "  -0.54994459  0.00520705 -0.94571375 -0.77343621 -1.20853126 -0.1541604 ]]\n",
            "Model Intercept:\n",
            " [0.44359695]\n"
          ]
        },
        {
          "output_type": "execute_result",
          "data": {
            "text/plain": [
              "<matplotlib.legend.Legend at 0x7b23aee2cc10>"
            ]
          },
          "metadata": {},
          "execution_count": 10
        },
        {
          "output_type": "display_data",
          "data": {
            "text/plain": [
              "<Figure size 800x600 with 1 Axes>"
            ],
            "image/png": "[encoded data removed]"
          },
          "metadata": {}
        }
      ]
    },
    {
      "cell_type": "markdown",
      "source": [
        "Code explanation\n",
        "\n",
        "Lines 1–7: We import required libraries for data manipulation, visualization, and machine learning model evaluation.\n",
        "\n",
        "Lines 10–12: We load the Breast Cancer Wisconsin dataset, which is a binary classification dataset, and assign features to X and target labels to y.\n",
        "\n",
        "Line 15: We divide the dataset into training and testing sets through the train_test_split function. In this process, 80% of the data is allocated for training, while the remaining 20% is reserved for testing.\n",
        "\n",
        "Lines 18–20: We standardize the features using StandardScaler to ensure that features have mean=0 and variance=1. This is important for logistic regression.\n",
        "\n",
        "Lines 23–25: We then create a logistic regression model, train it on the training data (X_train, y_train), and make predictions on the test data (X_test).\n",
        "\n",
        "Lines 28–35: We evaluate the model performance using accuracy, the confusion matrix, and the classification report, and we print the results.\n",
        "\n",
        "Lines 38–39: We print the coefficients and intercept of the logistic regression model.\n",
        "\n",
        "Lines 42–43: We then compute the ROC curve and AUC for the model.\n",
        "\n",
        "Lines 46–52: After computing the ROC and AUC, we plot the ROC curve for visualizing the performance of the logistic regression model."
      ],
      "metadata": {
        "id": "7CHlIqJG9oPW"
      }
    },
    {
      "cell_type": "markdown",
      "source": [
        "## **Decision tree**"
      ],
      "metadata": {
        "id": "UuuXx9kf-Zni"
      }
    },
    {
      "cell_type": "markdown",
      "source": [],
      "metadata": {
        "id": "O6rmAyFk-fmg"
      }
    },
    {
      "cell_type": "code",
      "source": [],
      "metadata": {
        "id": "PMpXQw58-Y4e"
      },
      "execution_count": null,
      "outputs": []
    }
  ]
}