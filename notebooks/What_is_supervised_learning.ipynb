{
  "nbformat": 4,
  "nbformat_minor": 0,
  "metadata": {
    "colab": {
      "provenance": [],
      "collapsed_sections": [
        "YMua6ka-Pny5",
        "Du1evLepQlkY"
      ],
      "authorship_tag": "ABX9TyM3OBy78Nb+TyfB6zPu5v0m",
      "include_colab_link": true
    },
    "kernelspec": {
      "name": "python3",
      "display_name": "Python 3"
    },
    "language_info": {
      "name": "python"
    }
  },
  "cells": [
    {
      "cell_type": "markdown",
      "metadata": {
        "id": "view-in-github",
        "colab_type": "text"
      },
      "source": [
        "<a href=\"https://colab.research.google.com/github/LiveKlas/DataScience_Projects/blob/main/notebooks/What_is_supervised_learning.ipynb\" target=\"_parent\"><img src=\"https://colab.research.google.com/assets/colab-badge.svg\" alt=\"Open In Colab\"/></a>"
      ]
    },
    {
      "cell_type": "markdown",
      "source": [
        "# **What is supervised learning?**"
      ],
      "metadata": {
        "id": "rHO2rwP5QTwa"
      }
    },
    {
      "cell_type": "markdown",
      "source": [
        "\n",
        "\n",
        "**Supervised learning**, also known as ***supervised machine learning***, is a subcategory of machine learning and artificial intelligence. It is defined by its use of labeled data sets to train algorithms that to classify data or predict outcomes accurately.\n",
        "\n",
        "As input data is fed into the model, it adjusts its weights until the model has been fitted appropriately, which occurs as part of the cross validation process.\n",
        "\n",
        "Supervised learning helps organizations solve for a variety of real-world problems at scale, such as classifying spam in a separate folder from your inbox.\n",
        "\n",
        "It can be used to build highly accurate machine learning models.\n",
        "\n",
        "\n",
        "\n"
      ],
      "metadata": {
        "id": "031QVGeCJtZo"
      }
    },
    {
      "cell_type": "markdown",
      "source": [
        "---"
      ],
      "metadata": {
        "id": "5PP0YyF2Rvvx"
      }
    },
    {
      "cell_type": "markdown",
      "source": [
        "### **How supervised learning works**"
      ],
      "metadata": {
        "id": "2tFy6B12Qaph"
      }
    },
    {
      "cell_type": "markdown",
      "source": [
        "\n",
        "\n",
        "Supervised learning uses a training set to teach models to yield the desired output. This training dataset includes inputs and correct outputs, which allow the model to learn over time. The algorithm measures its accuracy through the loss function, adjusting until the error has been sufficiently minimized.\n",
        "\n",
        "**Supervised learning can be separated into two types of problems when data mining — classification and regression:**\n",
        "\n",
        "- **Classification** uses an algorithm to accurately assign test data into specific categories. It recognizes specific entities within the dataset and attempts to draw some conclusions on how those entities should be labeled or defined. Common classification algorithms are linear classifiers, support vector machines (SVM), decision trees, k-nearest neighbor, and random forest.\n",
        "\n",
        "- **Regression** is used to understand the relationship between dependent and independent variables. It is commonly used to make projections, such as for sales revenue for a given business. Linear regression, logistical regression, and polynomial regression are popular regression algorithms."
      ],
      "metadata": {
        "id": "Vf3kFiGGJvW_"
      }
    },
    {
      "cell_type": "markdown",
      "source": [
        "---"
      ],
      "metadata": {
        "id": "cEY7OF8PPsvo"
      }
    },
    {
      "cell_type": "markdown",
      "source": [
        "### **Supervised learning algorithms**"
      ],
      "metadata": {
        "id": "YMua6ka-Pny5"
      }
    },
    {
      "cell_type": "markdown",
      "source": [
        "\n",
        "\n",
        "\n",
        "\n",
        "\n",
        "\n",
        "Various algorithms and computations techniques are used in supervised machine learning processes. Below are brief explanations of some of the most commonly used learning methods, typically calculated through use of programs like R or Python:\n",
        "\n",
        "- **Neural networks:** Primarily leveraged for deep learning algorithms, neural networks process training data by mimicking the interconnectivity of the human brain through layers of nodes. Each node is made up of inputs, weights, a bias (or threshold), and an output. If that output value exceeds a given threshold, it \"fires\" or activates the node, passing data to the next layer in the network. Neural networks learn this mapping function through supervised learning, adjusting based on the loss function through the process of gradient descent. When the cost function is at or near zero, we can be confident in the model's accuracy to yield the correct answer.\n",
        "\n",
        "- **Naive bayes:** Naive Bayes is classification approach that adopts the principle of class conditional independence from the Bayes Theorem. This means that the presence of one feature does not impact the presence of another in the probability of a given outcome, and each predictor has an equal effect on that result. There are three types of Naïve Bayes classifiers: Multinomial Naïve Bayes, Bernoulli Naïve Bayes, and Gaussian Naïve Bayes. This technique is primarily used in text classification, spam identification, and recommendation systems.\n",
        "\n",
        "- **Linear regression:** Linear regression is used to identify the relationship between a dependent variable and one or more independent variables and is typically leveraged to make predictions about future outcomes. When there is only one independent variable and one dependent variable, it is known as simple linear regression. As the number of independent variables increases, it is referred to as multiple linear regression. For each type of linear regression, it seeks to plot a line of best fit, which is calculated through the method of least squares. However, unlike other regression models, this line is straight when plotted on a graph.\n",
        "\n",
        "- **Logistic regression:** While linear regression is leveraged when dependent variables are continuous, logistic regression is selected when the dependent variable is categorical, meaning they have binary outputs, such as \"true\" and \"false\" or \"yes\" and \"no.\" While both regression models seek to understand relationships between data inputs, logistic regression is mainly used to solve binary classification problems, such as spam identification.\n",
        "\n",
        "- **Support vector machines (SVM):** A support vector machine is a popular supervised learning model developed by Vladimir Vapnik, used for both data classification and regression. That said, it is typically leveraged for classification problems, constructing a hyperplane where the distance between two classes of data points is at its maximum. This hyperplane is known as the decision boundary, separating the classes of data points (e.g., oranges vs. apples) on either side of the plane.\n",
        "\n",
        "- **K-nearest neighbor:** K-nearest neighbor, also known as the KNN algorithm, is a non-parametric algorithm that classifies data points based on their proximity and association to other available data. This algorithm assumes that similar data points can be found near each other. As a result, it seeks to calculate the distance between data points, usually through Euclidean distance, and then it assigns a category based on the most frequent category or average. Its ease of use and low calculation time make it a preferred algorithm by data scientists, but as the test dataset grows, the processing time lengthens, making it less appealing for classification tasks. KNN is typically used for recommendation engines and image recognition.\n",
        "\n",
        "- **Random forest:** Random forest is another flexible supervised machine learning algorithm used for both classification and regression purposes. The \"forest\" references a collection of uncorrelated decision trees, which are then merged together to reduce variance and create more accurate data predictions."
      ],
      "metadata": {
        "id": "KvvO_zwsJ7uv"
      }
    },
    {
      "cell_type": "markdown",
      "source": [
        "---\n"
      ],
      "metadata": {
        "id": "6vQLJZmnPygI"
      }
    },
    {
      "cell_type": "markdown",
      "source": [
        "### **Unsupervised vs. supervised vs. semi-supervised learning**"
      ],
      "metadata": {
        "id": "Du1evLepQlkY"
      }
    },
    {
      "cell_type": "markdown",
      "source": [
        "\n",
        "\n",
        "Unsupervised machine learning and supervised machine learning are frequently discussed together. Unlike supervised learning, unsupervised learning uses unlabeled data. From that data, it discovers patterns that help solve for clustering or association problems. This is particularly useful when subject matter experts are unsure of common properties within a data set. Common clustering algorithms are hierarchical, k-means, and Gaussian mixture models.\n",
        "\n",
        "**Semi-supervised learning** occurs when only part of the given input data has been labeled. Unsupervised and semi-supervised learning can be more appealing alternatives as it can be time-consuming and costly to rely on domain expertise to label data appropriately for supervised learning."
      ],
      "metadata": {
        "id": "pExRWXeXKQ5o"
      }
    },
    {
      "cell_type": "markdown",
      "source": [
        "----"
      ],
      "metadata": {
        "id": "CHNjXnPGPT6g"
      }
    },
    {
      "cell_type": "markdown",
      "source": [
        "### **Supervised learning examples**"
      ],
      "metadata": {
        "id": "eZfoak_CPYmx"
      }
    },
    {
      "cell_type": "markdown",
      "source": [
        "\n",
        "\n",
        "Supervised learning models can be used to build and advance a number of business applications, including the following:\n",
        "\n",
        "- **Image- and object-recognition:** Supervised learning algorithms can be used to locate, isolate, and categorize objects out of videos or images, making them useful when applied to various computer vision techniques and imagery analysis.\n",
        "\n",
        "- **Predictive analytics:** A widespread use case for supervised learning models is in creating predictive analytics systems to provide deep insights into various business data points. This allows enterprises to anticipate certain results based on a given output variable, helping business leaders justify decisions or pivot for the benefit of the organization.\n",
        "\n",
        "- **Customer sentiment analysis:** Using supervised machine learning algorithms, organizations can extract and classify important pieces of information from large volumes of data—including context, emotion, and intent—with very little human intervention. This can be incredibly useful when gaining a better understanding of customer interactions and can be used to improve brand engagement efforts.\n",
        "\n",
        "- **Spam detection:** Spam detection is another example of a supervised learning model. Using supervised classification algorithms, organizations can train databases to recognize patterns or anomalies in new data to organize spam and non-spam-related correspondences effectively."
      ],
      "metadata": {
        "id": "_aOsftDrKcrz"
      }
    },
    {
      "cell_type": "markdown",
      "source": [
        "----"
      ],
      "metadata": {
        "id": "oatvnsV9PJe5"
      }
    },
    {
      "cell_type": "markdown",
      "source": [
        "### **Challenges of supervised learning**"
      ],
      "metadata": {
        "id": "iMExhYrMNfsB"
      }
    },
    {
      "cell_type": "markdown",
      "source": [
        "Although supervised learning can offer businesses advantages, such as deep data insights and improved automation, there are some challenges when building sustainable supervised learning models. The following are some of these challenges:\n",
        "\n",
        "- Supervised learning models can require certain levels of expertise to structure accurately.\n",
        "- Training supervised learning models can be very time intensive.\n",
        "- Datasets can have a higher likelihood of human error, resulting in algorithms learning incorrectly.\n",
        "- Unlike unsupervised learning models, supervised learning cannot cluster or classify data on its own."
      ],
      "metadata": {
        "id": "FHAxppEVNwUw"
      }
    }
  ]
}