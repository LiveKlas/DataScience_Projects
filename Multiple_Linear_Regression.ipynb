{
  "cells": [
    {
      "cell_type": "markdown",
      "metadata": {
        "id": "view-in-github",
        "colab_type": "text"
      },
      "source": [
        "<a href=\"https://colab.research.google.com/github/LiveKlas/DataScience_Projects/blob/main/Multiple_Linear_Regression.ipynb\" target=\"_parent\"><img src=\"https://colab.research.google.com/assets/colab-badge.svg\" alt=\"Open In Colab\"/></a>"
      ]
    },
    {
      "cell_type": "markdown",
      "source": [
        "https://github.com/LiveKlas/DataScience_Projects/"
      ],
      "metadata": {
        "id": "bCUCXL84f-8I"
      }
    },
    {
      "cell_type": "code",
      "execution_count": 9,
      "metadata": {
        "collapsed": true,
        "id": "VK6CQQg7Vcs3"
      },
      "outputs": [],
      "source": [
        "import ssl\n",
        "ssl._create_default_https_context = ssl._create_unverified_context\n",
        "import pandas as pd\n",
        "url = \"https://raw.githubusercontent.com/LiveKlas/DataScience_Projects/main/50_Startups.csv\"\n",
        "dataset = pd.read_csv(url)"
      ]
    },
    {
      "cell_type": "code",
      "source": [
        "import numpy as np\n",
        "import matplotlib.pyplot as plt\n",
        "import pandas as pd\n",
        "\n",
        "# Importing the dataset\n",
        "x = dataset.iloc[:, :-1].values\n",
        "y = dataset.iloc[:, 4].values"
      ],
      "metadata": {
        "id": "P_bsjBLteloX"
      },
      "execution_count": 10,
      "outputs": []
    },
    {
      "cell_type": "code",
      "source": [
        "# Encoding categorical variable\n",
        "from sklearn.preprocessing import LabelEncoder, OneHotEncoder\n",
        "labelencoder_x = LabelEncoder()\n",
        "#x[:,3] = labelencoder_x.fit_transform(x[:,3])\n",
        "onehotencoder = OneHotEncoder()\n",
        "x= np.append(onehotencoder.fit_transform(x[:,[3]]).toarray(), x,1)\n",
        "x = np.delete(x, 6, axis=1)\n",
        "x = x[:,[1,2,3,4,5]]"
      ],
      "metadata": {
        "id": "PLTYNG2XepAg"
      },
      "execution_count": 11,
      "outputs": []
    },
    {
      "cell_type": "code",
      "source": [
        "# Splitting the dataset into the Training set and Test set\n",
        "from sklearn.model_selection import train_test_split\n",
        "x_train, x_test, y_train, y_test = train_test_split(x, y, test_size = 1/3, random_state=0)"
      ],
      "metadata": {
        "id": "cAxS63EQetzf"
      },
      "execution_count": 12,
      "outputs": []
    },
    {
      "cell_type": "code",
      "source": [
        "# Feature Scaling\n",
        "\"\"\"from sklearn.preprocessing import StandardScaler\n",
        "sc_X = StandardScaler()\n",
        "X_train = sc_X.fit_transform(X_train)\n",
        "X_test = sc_X.transform(X_test)\n",
        "sc_y = StandardScaler()\n",
        "y_train = sc_y.fit_transform(y_train)\"\"\""
      ],
      "metadata": {
        "colab": {
          "base_uri": "https://localhost:8080/",
          "height": 53
        },
        "id": "SeT8Qo2OeyMn",
        "outputId": "d6f2109d-78c9-4cfc-baa8-ecbad9914c13"
      },
      "execution_count": null,
      "outputs": [
        {
          "output_type": "execute_result",
          "data": {
            "text/plain": [
              "'from sklearn.preprocessing import StandardScaler\\nsc_X = StandardScaler() \\nX_train = sc_X.fit_transform(X_train)\\nX_test = sc_X.transform(X_test)\\nsc_y = StandardScaler()\\ny_train = sc_y.fit_transform(y_train)'"
            ],
            "application/vnd.google.colaboratory.intrinsic+json": {
              "type": "string"
            }
          },
          "metadata": {},
          "execution_count": 25
        }
      ]
    },
    {
      "cell_type": "code",
      "source": [
        "# Fitting Simple Linear Regression to the Trainig Set\n",
        "from sklearn.linear_model import LinearRegression\n",
        "regressor = LinearRegression()\n",
        "\n",
        "reg = regressor.fit(x_train, y_train)"
      ],
      "metadata": {
        "id": "zfzpjtBLeztH"
      },
      "execution_count": 13,
      "outputs": []
    },
    {
      "cell_type": "code",
      "source": [
        "# Predicting the test set results\n",
        "\n",
        "y_pred = pd.DataFrame(regressor.predict(x_test))"
      ],
      "metadata": {
        "id": "Gw7RUvwre5bP"
      },
      "execution_count": null,
      "outputs": []
    },
    {
      "cell_type": "code",
      "source": [
        "# building an optimal model using backward elimination\n",
        "import statsmodels.regression.linear_model as sm\n",
        "\n",
        "x = np.append(np.ones((50,1)).astype(int), x,1)\n",
        "\n",
        "x_opt = np.array(x[:, [0, 1, 2, 3, 4, 5]], dtype=float)\n",
        "regressor_ols=sm.OLS(endog = y, exog = x_opt).fit()\n",
        "print(regressor_ols.summary())"
      ],
      "metadata": {
        "colab": {
          "base_uri": "https://localhost:8080/"
        },
        "id": "sFXubS1se-Gf",
        "outputId": "c6927327-44d6-4f3e-f2a3-d3a7c0ef70a6"
      },
      "execution_count": 17,
      "outputs": [
        {
          "output_type": "stream",
          "name": "stdout",
          "text": [
            "                            OLS Regression Results                            \n",
            "==============================================================================\n",
            "Dep. Variable:                      y   R-squared:                       0.024\n",
            "Model:                            OLS   Adj. R-squared:                 -0.018\n",
            "Method:                 Least Squares   F-statistic:                    0.5748\n",
            "Date:                Fri, 12 Jul 2024   Prob (F-statistic):              0.567\n",
            "Time:                        10:05:02   Log-Likelihood:                -600.05\n",
            "No. Observations:                  50   AIC:                             1206.\n",
            "Df Residuals:                      47   BIC:                             1212.\n",
            "Df Model:                           2                                         \n",
            "Covariance Type:            nonrobust                                         \n",
            "==============================================================================\n",
            "                 coef    std err          t      P>|t|      [0.025      0.975]\n",
            "------------------------------------------------------------------------------\n",
            "const       2.598e+04   2465.409     10.536      0.000     2.1e+04    3.09e+04\n",
            "x1          2.598e+04   2465.409     10.536      0.000     2.1e+04    3.09e+04\n",
            "x2          2.598e+04   2465.409     10.536      0.000     2.1e+04    3.09e+04\n",
            "x3          2.598e+04   2465.409     10.536      0.000     2.1e+04    3.09e+04\n",
            "x4          1.487e+04   1.42e+04      1.050      0.299   -1.36e+04    4.34e+04\n",
            "x5          9851.2712   1.39e+04      0.706      0.483   -1.82e+04    3.79e+04\n",
            "==============================================================================\n",
            "Omnibus:                        0.111   Durbin-Watson:                   0.081\n",
            "Prob(Omnibus):                  0.946   Jarque-Bera (JB):                0.207\n",
            "Skew:                           0.104   Prob(JB):                        0.902\n",
            "Kurtosis:                       2.762   Cond. No.                     7.13e+18\n",
            "==============================================================================\n",
            "\n",
            "Notes:\n",
            "[1] Standard Errors assume that the covariance matrix of the errors is correctly specified.\n",
            "[2] The smallest eigenvalue is 4.15e-36. This might indicate that there are\n",
            "strong multicollinearity problems or that the design matrix is singular.\n"
          ]
        }
      ]
    },
    {
      "cell_type": "code",
      "source": [
        "x_opt = np.array(x[:, [0, 1, 3, 4, 5]], dtype=float)\n",
        "regressor_ols=sm.OLS(endog = y, exog = x_opt).fit()\n",
        "print(regressor_ols.summary())"
      ],
      "metadata": {
        "id": "Za3oHkBjZeDg",
        "outputId": "97a85a0c-3238-4d3e-f51b-66a678bb1493",
        "colab": {
          "base_uri": "https://localhost:8080/"
        }
      },
      "execution_count": 18,
      "outputs": [
        {
          "output_type": "stream",
          "name": "stdout",
          "text": [
            "                            OLS Regression Results                            \n",
            "==============================================================================\n",
            "Dep. Variable:                      y   R-squared:                       0.024\n",
            "Model:                            OLS   Adj. R-squared:                 -0.018\n",
            "Method:                 Least Squares   F-statistic:                    0.5748\n",
            "Date:                Fri, 12 Jul 2024   Prob (F-statistic):              0.567\n",
            "Time:                        10:06:44   Log-Likelihood:                -600.05\n",
            "No. Observations:                  50   AIC:                             1206.\n",
            "Df Residuals:                      47   BIC:                             1212.\n",
            "Df Model:                           2                                         \n",
            "Covariance Type:            nonrobust                                         \n",
            "==============================================================================\n",
            "                 coef    std err          t      P>|t|      [0.025      0.975]\n",
            "------------------------------------------------------------------------------\n",
            "const       3.464e+04   3287.212     10.536      0.000     2.8e+04    4.12e+04\n",
            "x1          3.464e+04   3287.212     10.536      0.000     2.8e+04    4.12e+04\n",
            "x2          3.464e+04   3287.212     10.536      0.000     2.8e+04    4.12e+04\n",
            "x3          1.487e+04   1.42e+04      1.050      0.299   -1.36e+04    4.34e+04\n",
            "x4          9851.2712   1.39e+04      0.706      0.483   -1.82e+04    3.79e+04\n",
            "==============================================================================\n",
            "Omnibus:                        0.111   Durbin-Watson:                   0.081\n",
            "Prob(Omnibus):                  0.946   Jarque-Bera (JB):                0.207\n",
            "Skew:                           0.104   Prob(JB):                        0.902\n",
            "Kurtosis:                       2.762   Cond. No.                     3.64e+16\n",
            "==============================================================================\n",
            "\n",
            "Notes:\n",
            "[1] Standard Errors assume that the covariance matrix of the errors is correctly specified.\n",
            "[2] The smallest eigenvalue is 1.21e-31. This might indicate that there are\n",
            "strong multicollinearity problems or that the design matrix is singular.\n"
          ]
        }
      ]
    },
    {
      "cell_type": "code",
      "source": [
        "x_opt = np.array(x[:, [0, 3, 4, 5]], dtype=float)\n",
        "regressor_ols=sm.OLS(endog = y, exog = x_opt).fit()\n",
        "regressor_ols.summary()"
      ],
      "metadata": {
        "id": "uDWAr1gCZgVO",
        "outputId": "28e60109-ef06-4c19-82ee-8ef70e012f9d",
        "colab": {
          "base_uri": "https://localhost:8080/",
          "height": 519
        }
      },
      "execution_count": 19,
      "outputs": [
        {
          "output_type": "execute_result",
          "data": {
            "text/plain": [
              "<class 'statsmodels.iolib.summary.Summary'>\n",
              "\"\"\"\n",
              "                            OLS Regression Results                            \n",
              "==============================================================================\n",
              "Dep. Variable:                      y   R-squared:                       0.024\n",
              "Model:                            OLS   Adj. R-squared:                 -0.018\n",
              "Method:                 Least Squares   F-statistic:                    0.5748\n",
              "Date:                Fri, 12 Jul 2024   Prob (F-statistic):              0.567\n",
              "Time:                        10:07:47   Log-Likelihood:                -600.05\n",
              "No. Observations:                  50   AIC:                             1206.\n",
              "Df Residuals:                      47   BIC:                             1212.\n",
              "Df Model:                           2                                         \n",
              "Covariance Type:            nonrobust                                         \n",
              "==============================================================================\n",
              "                 coef    std err          t      P>|t|      [0.025      0.975]\n",
              "------------------------------------------------------------------------------\n",
              "const       5.195e+04   4930.818     10.536      0.000     4.2e+04    6.19e+04\n",
              "x1          5.195e+04   4930.818     10.536      0.000     4.2e+04    6.19e+04\n",
              "x2          1.487e+04   1.42e+04      1.050      0.299   -1.36e+04    4.34e+04\n",
              "x3          9851.2712   1.39e+04      0.706      0.483   -1.82e+04    3.79e+04\n",
              "==============================================================================\n",
              "Omnibus:                        0.111   Durbin-Watson:                   0.081\n",
              "Prob(Omnibus):                  0.946   Jarque-Bera (JB):                0.207\n",
              "Skew:                           0.104   Prob(JB):                        0.902\n",
              "Kurtosis:                       2.762   Cond. No.                     6.53e+16\n",
              "==============================================================================\n",
              "\n",
              "Notes:\n",
              "[1] Standard Errors assume that the covariance matrix of the errors is correctly specified.\n",
              "[2] The smallest eigenvalue is 2.61e-32. This might indicate that there are\n",
              "strong multicollinearity problems or that the design matrix is singular.\n",
              "\"\"\""
            ],
            "text/html": [
              "<table class=\"simpletable\">\n",
              "<caption>OLS Regression Results</caption>\n",
              "<tr>\n",
              "  <th>Dep. Variable:</th>            <td>y</td>        <th>  R-squared:         </th> <td>   0.024</td>\n",
              "</tr>\n",
              "<tr>\n",
              "  <th>Model:</th>                   <td>OLS</td>       <th>  Adj. R-squared:    </th> <td>  -0.018</td>\n",
              "</tr>\n",
              "<tr>\n",
              "  <th>Method:</th>             <td>Least Squares</td>  <th>  F-statistic:       </th> <td>  0.5748</td>\n",
              "</tr>\n",
              "<tr>\n",
              "  <th>Date:</th>             <td>Fri, 12 Jul 2024</td> <th>  Prob (F-statistic):</th>  <td> 0.567</td> \n",
              "</tr>\n",
              "<tr>\n",
              "  <th>Time:</th>                 <td>10:07:47</td>     <th>  Log-Likelihood:    </th> <td> -600.05</td>\n",
              "</tr>\n",
              "<tr>\n",
              "  <th>No. Observations:</th>      <td>    50</td>      <th>  AIC:               </th> <td>   1206.</td>\n",
              "</tr>\n",
              "<tr>\n",
              "  <th>Df Residuals:</th>          <td>    47</td>      <th>  BIC:               </th> <td>   1212.</td>\n",
              "</tr>\n",
              "<tr>\n",
              "  <th>Df Model:</th>              <td>     2</td>      <th>                     </th>     <td> </td>   \n",
              "</tr>\n",
              "<tr>\n",
              "  <th>Covariance Type:</th>      <td>nonrobust</td>    <th>                     </th>     <td> </td>   \n",
              "</tr>\n",
              "</table>\n",
              "<table class=\"simpletable\">\n",
              "<tr>\n",
              "    <td></td>       <th>coef</th>     <th>std err</th>      <th>t</th>      <th>P>|t|</th>  <th>[0.025</th>    <th>0.975]</th>  \n",
              "</tr>\n",
              "<tr>\n",
              "  <th>const</th> <td> 5.195e+04</td> <td> 4930.818</td> <td>   10.536</td> <td> 0.000</td> <td>  4.2e+04</td> <td> 6.19e+04</td>\n",
              "</tr>\n",
              "<tr>\n",
              "  <th>x1</th>    <td> 5.195e+04</td> <td> 4930.818</td> <td>   10.536</td> <td> 0.000</td> <td>  4.2e+04</td> <td> 6.19e+04</td>\n",
              "</tr>\n",
              "<tr>\n",
              "  <th>x2</th>    <td> 1.487e+04</td> <td> 1.42e+04</td> <td>    1.050</td> <td> 0.299</td> <td>-1.36e+04</td> <td> 4.34e+04</td>\n",
              "</tr>\n",
              "<tr>\n",
              "  <th>x3</th>    <td> 9851.2712</td> <td> 1.39e+04</td> <td>    0.706</td> <td> 0.483</td> <td>-1.82e+04</td> <td> 3.79e+04</td>\n",
              "</tr>\n",
              "</table>\n",
              "<table class=\"simpletable\">\n",
              "<tr>\n",
              "  <th>Omnibus:</th>       <td> 0.111</td> <th>  Durbin-Watson:     </th> <td>   0.081</td>\n",
              "</tr>\n",
              "<tr>\n",
              "  <th>Prob(Omnibus):</th> <td> 0.946</td> <th>  Jarque-Bera (JB):  </th> <td>   0.207</td>\n",
              "</tr>\n",
              "<tr>\n",
              "  <th>Skew:</th>          <td> 0.104</td> <th>  Prob(JB):          </th> <td>   0.902</td>\n",
              "</tr>\n",
              "<tr>\n",
              "  <th>Kurtosis:</th>      <td> 2.762</td> <th>  Cond. No.          </th> <td>6.53e+16</td>\n",
              "</tr>\n",
              "</table><br/><br/>Notes:<br/>[1] Standard Errors assume that the covariance matrix of the errors is correctly specified.<br/>[2] The smallest eigenvalue is 2.61e-32. This might indicate that there are<br/>strong multicollinearity problems or that the design matrix is singular."
            ],
            "text/latex": "\\begin{center}\n\\begin{tabular}{lclc}\n\\toprule\n\\textbf{Dep. Variable:}    &        y         & \\textbf{  R-squared:         } &     0.024   \\\\\n\\textbf{Model:}            &       OLS        & \\textbf{  Adj. R-squared:    } &    -0.018   \\\\\n\\textbf{Method:}           &  Least Squares   & \\textbf{  F-statistic:       } &    0.5748   \\\\\n\\textbf{Date:}             & Fri, 12 Jul 2024 & \\textbf{  Prob (F-statistic):} &    0.567    \\\\\n\\textbf{Time:}             &     10:07:47     & \\textbf{  Log-Likelihood:    } &   -600.05   \\\\\n\\textbf{No. Observations:} &          50      & \\textbf{  AIC:               } &     1206.   \\\\\n\\textbf{Df Residuals:}     &          47      & \\textbf{  BIC:               } &     1212.   \\\\\n\\textbf{Df Model:}         &           2      & \\textbf{                     } &             \\\\\n\\textbf{Covariance Type:}  &    nonrobust     & \\textbf{                     } &             \\\\\n\\bottomrule\n\\end{tabular}\n\\begin{tabular}{lcccccc}\n               & \\textbf{coef} & \\textbf{std err} & \\textbf{t} & \\textbf{P$> |$t$|$} & \\textbf{[0.025} & \\textbf{0.975]}  \\\\\n\\midrule\n\\textbf{const} &    5.195e+04  &     4930.818     &    10.536  &         0.000        &      4.2e+04    &     6.19e+04     \\\\\n\\textbf{x1}    &    5.195e+04  &     4930.818     &    10.536  &         0.000        &      4.2e+04    &     6.19e+04     \\\\\n\\textbf{x2}    &    1.487e+04  &     1.42e+04     &     1.050  &         0.299        &    -1.36e+04    &     4.34e+04     \\\\\n\\textbf{x3}    &    9851.2712  &     1.39e+04     &     0.706  &         0.483        &    -1.82e+04    &     3.79e+04     \\\\\n\\bottomrule\n\\end{tabular}\n\\begin{tabular}{lclc}\n\\textbf{Omnibus:}       &  0.111 & \\textbf{  Durbin-Watson:     } &    0.081  \\\\\n\\textbf{Prob(Omnibus):} &  0.946 & \\textbf{  Jarque-Bera (JB):  } &    0.207  \\\\\n\\textbf{Skew:}          &  0.104 & \\textbf{  Prob(JB):          } &    0.902  \\\\\n\\textbf{Kurtosis:}      &  2.762 & \\textbf{  Cond. No.          } & 6.53e+16  \\\\\n\\bottomrule\n\\end{tabular}\n%\\caption{OLS Regression Results}\n\\end{center}\n\nNotes: \\newline\n [1] Standard Errors assume that the covariance matrix of the errors is correctly specified. \\newline\n [2] The smallest eigenvalue is 2.61e-32. This might indicate that there are \\newline\n strong multicollinearity problems or that the design matrix is singular."
          },
          "metadata": {},
          "execution_count": 19
        }
      ]
    },
    {
      "cell_type": "code",
      "source": [
        "x_opt = np.array(x[:, [0, 3, 5]], dtype=float)\n",
        "regressor_ols=sm.OLS(endog = y, exog = x_opt).fit()\n",
        "print(regressor_ols.summary())"
      ],
      "metadata": {
        "id": "Rg3xwYQxZiMm",
        "outputId": "8b69c821-e2fc-45ce-a464-06b4d0a26b56",
        "colab": {
          "base_uri": "https://localhost:8080/"
        }
      },
      "execution_count": 20,
      "outputs": [
        {
          "output_type": "stream",
          "name": "stdout",
          "text": [
            "                            OLS Regression Results                            \n",
            "==============================================================================\n",
            "Dep. Variable:                      y   R-squared:                       0.001\n",
            "Model:                            OLS   Adj. R-squared:                 -0.020\n",
            "Method:                 Least Squares   F-statistic:                   0.04727\n",
            "Date:                Fri, 12 Jul 2024   Prob (F-statistic):              0.829\n",
            "Time:                        10:09:13   Log-Likelihood:                -600.63\n",
            "No. Observations:                  50   AIC:                             1205.\n",
            "Df Residuals:                      48   BIC:                             1209.\n",
            "Df Model:                           1                                         \n",
            "Covariance Type:            nonrobust                                         \n",
            "==============================================================================\n",
            "                 coef    std err          t      P>|t|      [0.025      0.975]\n",
            "------------------------------------------------------------------------------\n",
            "const       5.556e+04   3542.814     15.682      0.000    4.84e+04    6.27e+04\n",
            "x1          5.556e+04   3542.814     15.682      0.000    4.84e+04    6.27e+04\n",
            "x2          2642.1322   1.22e+04      0.217      0.829   -2.18e+04    2.71e+04\n",
            "==============================================================================\n",
            "Omnibus:                        0.011   Durbin-Watson:                   0.021\n",
            "Prob(Omnibus):                  0.994   Jarque-Bera (JB):                0.082\n",
            "Skew:                           0.022   Prob(JB):                        0.960\n",
            "Kurtosis:                       2.807   Cond. No.                     5.10e+16\n",
            "==============================================================================\n",
            "\n",
            "Notes:\n",
            "[1] Standard Errors assume that the covariance matrix of the errors is correctly specified.\n",
            "[2] The smallest eigenvalue is 4.09e-32. This might indicate that there are\n",
            "strong multicollinearity problems or that the design matrix is singular.\n"
          ]
        }
      ]
    },
    {
      "cell_type": "code",
      "source": [
        "x_opt = np.array(x[:, [0, 3]], dtype=float)\n",
        "regressor_ols=sm.OLS(endog = y, exog = x_opt).fit()\n",
        "print(regressor_ols.summary())"
      ],
      "metadata": {
        "id": "JWubBSTJZpXm",
        "outputId": "995446eb-8db0-4ad9-b9e7-5f6fe8de9605",
        "colab": {
          "base_uri": "https://localhost:8080/"
        }
      },
      "execution_count": 21,
      "outputs": [
        {
          "output_type": "stream",
          "name": "stdout",
          "text": [
            "                            OLS Regression Results                            \n",
            "==============================================================================\n",
            "Dep. Variable:                      y   R-squared:                       0.000\n",
            "Model:                            OLS   Adj. R-squared:                  0.000\n",
            "Method:                 Least Squares   F-statistic:                       nan\n",
            "Date:                Fri, 12 Jul 2024   Prob (F-statistic):                nan\n",
            "Time:                        10:11:02   Log-Likelihood:                -600.65\n",
            "No. Observations:                  50   AIC:                             1203.\n",
            "Df Residuals:                      49   BIC:                             1205.\n",
            "Df Model:                           0                                         \n",
            "Covariance Type:            nonrobust                                         \n",
            "==============================================================================\n",
            "                 coef    std err          t      P>|t|      [0.025      0.975]\n",
            "------------------------------------------------------------------------------\n",
            "const       5.601e+04   2850.077     19.651      0.000    5.03e+04    6.17e+04\n",
            "x1          5.601e+04   2850.077     19.651      0.000    5.03e+04    6.17e+04\n",
            "==============================================================================\n",
            "Omnibus:                        0.018   Durbin-Watson:                   0.020\n",
            "Prob(Omnibus):                  0.991   Jarque-Bera (JB):                0.068\n",
            "Skew:                           0.023   Prob(JB):                        0.966\n",
            "Kurtosis:                       2.825   Cond. No.                     5.02e+16\n",
            "==============================================================================\n",
            "\n",
            "Notes:\n",
            "[1] Standard Errors assume that the covariance matrix of the errors is correctly specified.\n",
            "[2] The smallest eigenvalue is 3.98e-32. This might indicate that there are\n",
            "strong multicollinearity problems or that the design matrix is singular.\n"
          ]
        }
      ]
    }
  ],
  "metadata": {
    "kernelspec": {
      "display_name": "Python 3",
      "language": "python",
      "name": "python3"
    },
    "language_info": {
      "codemirror_mode": {
        "name": "ipython",
        "version": 3
      },
      "file_extension": ".py",
      "mimetype": "text/x-python",
      "name": "python",
      "nbconvert_exporter": "python",
      "pygments_lexer": "ipython3",
      "version": "3.6.5"
    },
    "colab": {
      "provenance": [],
      "include_colab_link": true
    }
  },
  "nbformat": 4,
  "nbformat_minor": 0
}